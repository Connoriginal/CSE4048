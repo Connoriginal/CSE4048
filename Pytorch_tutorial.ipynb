{
 "cells": [
  {
   "cell_type": "code",
   "execution_count": 2,
   "id": "458abf38",
   "metadata": {},
   "outputs": [
    {
     "name": "stdout",
     "output_type": "stream",
     "text": [
      "1.7.1\n"
     ]
    }
   ],
   "source": [
    "import torch\n",
    "import numpy as np\n",
    "print(torch.__version__)"
   ]
  },
  {
   "cell_type": "markdown",
   "id": "f1009b65",
   "metadata": {},
   "source": [
    "# Initialize with Python lists"
   ]
  },
  {
   "cell_type": "code",
   "execution_count": 3,
   "id": "e13a0370",
   "metadata": {},
   "outputs": [],
   "source": [
    "arr = [[1,2],[3,4]]"
   ]
  },
  {
   "cell_type": "code",
   "execution_count": 4,
   "id": "34974d07",
   "metadata": {},
   "outputs": [
    {
     "name": "stdout",
     "output_type": "stream",
     "text": [
      "numpy array type : <class 'numpy.ndarray'>\n",
      "numpy array : \n",
      " [[1 2]\n",
      " [3 4]]\n",
      "numpy array type : <class 'torch.Tensor'>\n",
      "numpy array : \n",
      " tensor([[1., 2.],\n",
      "        [3., 4.]])\n"
     ]
    }
   ],
   "source": [
    "# numpy \n",
    "arr_n = np.array(arr)\n",
    "print(\"numpy array type : {}\".format(type(arr_n)))\n",
    "print(\"numpy array : \\n {}\".format(arr_n))\n",
    "\n",
    "# torch\n",
    "arr_t = torch.Tensor(arr)\n",
    "print(\"numpy array type : {}\".format(type(arr_t)))\n",
    "print(\"numpy array : \\n {}\".format(arr_t))"
   ]
  },
  {
   "cell_type": "code",
   "execution_count": 5,
   "id": "4118f328",
   "metadata": {},
   "outputs": [
    {
     "name": "stdout",
     "output_type": "stream",
     "text": [
      "[[1. 1. 1.]\n",
      " [1. 1. 1.]]\n",
      "[[0. 0. 0.]\n",
      " [0. 0. 0.]]\n",
      "tensor([[1., 1., 1.],\n",
      "        [1., 1., 1.]])\n",
      "tensor([[0., 0., 0.],\n",
      "        [0., 0., 0.]])\n"
     ]
    }
   ],
   "source": [
    "# Initialization\n",
    "\n",
    "# np.array\n",
    "print(np.ones((2,3)))\n",
    "print(np.zeros((2,3)))\n",
    "\n",
    "# torch.Tensor\n",
    "print(torch.ones(2,3))\n",
    "print(torch.zeros(2,3))"
   ]
  },
  {
   "cell_type": "code",
   "execution_count": 6,
   "id": "59c3c114",
   "metadata": {},
   "outputs": [
    {
     "name": "stdout",
     "output_type": "stream",
     "text": [
      "[[1 1]\n",
      " [1 1]]\n",
      "[[0 0]\n",
      " [0 0]]\n",
      "tensor([[1., 1.],\n",
      "        [1., 1.]])\n",
      "tensor([[0., 0.],\n",
      "        [0., 0.]])\n"
     ]
    }
   ],
   "source": [
    "# ones_like : 기존 matrix과 동일한 shape의 matrix를 생성하기 위한 용도\n",
    "print(np.ones_like(arr_n))\n",
    "print(np.zeros_like(arr_n))\n",
    "\n",
    "print(torch.ones_like(arr_t))\n",
    "print(torch.zeros_like(arr_t))"
   ]
  },
  {
   "cell_type": "markdown",
   "id": "28971088",
   "metadata": {},
   "source": [
    "# Specifying data type"
   ]
  },
  {
   "cell_type": "code",
   "execution_count": 7,
   "id": "0e25e7ba",
   "metadata": {},
   "outputs": [
    {
     "name": "stdout",
     "output_type": "stream",
     "text": [
      "tensor([[1, 1, 1],\n",
      "        [1, 1, 1]], dtype=torch.int32)\n",
      "tensor([[0., 0., 0.],\n",
      "        [0., 0., 0.]])\n",
      "tensor([1., 2.])\n",
      "torch.float32\n",
      "<class 'torch.Tensor'>\n"
     ]
    }
   ],
   "source": [
    "# Use keyword argument dtype\n",
    "print(torch.ones((2,3), dtype = torch.int))\n",
    "print(torch.zeros((2,3,), dtype = torch.float))\n",
    "\n",
    "# Use typed tensors\n",
    "ft = torch.FloatTensor([1,2])\n",
    "print(ft)\n",
    "print(ft.dtype)\n",
    "print(type(ft))"
   ]
  },
  {
   "cell_type": "markdown",
   "id": "a51a9d14",
   "metadata": {},
   "source": [
    "# Accessing elements"
   ]
  },
  {
   "cell_type": "code",
   "execution_count": 8,
   "id": "ae8936e1",
   "metadata": {},
   "outputs": [
    {
     "name": "stdout",
     "output_type": "stream",
     "text": [
      "2.0\n",
      "tensor([1., 2.])\n",
      "tensor([[1., 0.],\n",
      "        [3., 4.]])\n"
     ]
    }
   ],
   "source": [
    "arr_t = torch.Tensor([[1,2],[3,4]])\n",
    "\n",
    "# Access\n",
    "arr_t[0,1]\n",
    "\n",
    "# Get python number\n",
    "print(arr_t[0,1].item())\n",
    "print(arr_t[0,:])\n",
    "\n",
    "# Update\n",
    "arr_t[0,1] = 0\n",
    "print(arr_t)"
   ]
  },
  {
   "cell_type": "code",
   "execution_count": 9,
   "id": "5f6beb2b",
   "metadata": {},
   "outputs": [
    {
     "name": "stdout",
     "output_type": "stream",
     "text": [
      "tensor([[1., 2., 3., 4.],\n",
      "        [2., 3., 4., 5.],\n",
      "        [5., 6., 7., 8.]])\n",
      "tensor([[1., 2., 3., 4.],\n",
      "        [2., 3., 4., 5.]])\n",
      "tensor([[2., 3., 4.],\n",
      "        [3., 4., 5.]])\n",
      "tensor([[1., 2., 3.],\n",
      "        [2., 3., 4.],\n",
      "        [5., 6., 7.]])\n",
      "tensor([[2., 3.],\n",
      "        [3., 4.],\n",
      "        [6., 7.]])\n"
     ]
    }
   ],
   "source": [
    "# Slicing\n",
    "t = torch.Tensor([[1,2,3,4],[2,3,4,5],[5,6,7,8]])\n",
    "print(t)\n",
    "\n",
    "print(t[:2])\n",
    "print(t[:2,1:])\n",
    "\n",
    "# Negative Slicing\n",
    "print(t[:,:-1])\n",
    "print(t[:,-3:-1])"
   ]
  },
  {
   "cell_type": "markdown",
   "id": "0533bb1f",
   "metadata": {},
   "source": [
    "# Shape &Transpose (matrix)"
   ]
  },
  {
   "cell_type": "code",
   "execution_count": 10,
   "id": "73169d0b",
   "metadata": {},
   "outputs": [
    {
     "name": "stdout",
     "output_type": "stream",
     "text": [
      "Original Tensor : \n",
      "tensor([[1., 2., 3., 4.],\n",
      "        [2., 3., 4., 5.],\n",
      "        [5., 6., 7., 8.]])\n",
      "Transpose : \n",
      "tensor([[1., 2., 5.],\n",
      "        [2., 3., 6.],\n",
      "        [3., 4., 7.],\n",
      "        [4., 5., 8.]])\n",
      "t shape : torch.Size([3, 4])\n",
      "t.T shape : torch.Size([4, 3])\n"
     ]
    }
   ],
   "source": [
    "# Transpose\n",
    "print(\"Original Tensor : \\n{}\".format(t))\n",
    "print(\"Transpose : \\n{}\".format(t.T))\n",
    "\n",
    "# Shape\n",
    "print(\"t shape : {}\".format(t.shape))\n",
    "print(\"t.T shape : {}\".format(t.T.shape))"
   ]
  },
  {
   "cell_type": "markdown",
   "id": "b5c3dd39",
   "metadata": {},
   "source": [
    "# Sum"
   ]
  },
  {
   "cell_type": "code",
   "execution_count": 11,
   "id": "3f25e339",
   "metadata": {},
   "outputs": [
    {
     "name": "stdout",
     "output_type": "stream",
     "text": [
      "tensor(21.)\n",
      "tensor(21.)\n"
     ]
    }
   ],
   "source": [
    "X = torch.Tensor([[1,2,3],[4,5,6]])\n",
    "print(X.sum())\n",
    "print(torch.sum(X))"
   ]
  },
  {
   "cell_type": "code",
   "execution_count": 12,
   "id": "f4e6ba35",
   "metadata": {},
   "outputs": [
    {
     "name": "stdout",
     "output_type": "stream",
     "text": [
      "tensor([[21.]])\n"
     ]
    }
   ],
   "source": [
    "print(X.sum(dim=(0,1),keepdim= True))"
   ]
  },
  {
   "cell_type": "code",
   "execution_count": 13,
   "id": "cd53ee73",
   "metadata": {},
   "outputs": [
    {
     "name": "stdout",
     "output_type": "stream",
     "text": [
      "X dim = 0 is \n",
      "tensor([5., 7., 9.])\n",
      "and shape : torch.Size([3])\n",
      "X dim = 1 is \n",
      "tensor([ 6., 15.])\n",
      "and shape : torch.Size([2])\n",
      "------keepdim = True-------\n",
      "X dim = 0 is \n",
      "tensor([[5., 7., 9.]])\n",
      "and shape : torch.Size([1, 3])\n",
      "X dim = 1 is \n",
      "tensor([[ 6.],\n",
      "        [15.]])\n",
      "and shape : torch.Size([2, 1])\n"
     ]
    }
   ],
   "source": [
    "# Keepdim = False\n",
    "X0 = X.sum(0)\n",
    "X1 = X.sum(1)\n",
    "print(\"X dim = 0 is \\n{}\\nand shape : {}\".format(X0,X0.shape))\n",
    "print(\"X dim = 1 is \\n{}\\nand shape : {}\".format(X1,X1.shape))\n",
    "\n",
    "print(\"------keepdim = True-------\")\n",
    "# Keepdim = True\n",
    "X_dim0 = X.sum(dim = 0, keepdim=True)\n",
    "X_dim1 = X.sum(dim = 1 , keepdim=True)\n",
    "print(\"X dim = 0 is \\n{}\\nand shape : {}\".format(X_dim0,X_dim0.shape))\n",
    "print(\"X dim = 1 is \\n{}\\nand shape : {}\".format(X_dim1,X_dim1.shape))"
   ]
  },
  {
   "cell_type": "markdown",
   "id": "d27bc07f",
   "metadata": {},
   "source": [
    "# Mean"
   ]
  },
  {
   "cell_type": "code",
   "execution_count": 14,
   "id": "1b8e3f4f",
   "metadata": {},
   "outputs": [
    {
     "name": "stdout",
     "output_type": "stream",
     "text": [
      "\n",
      "Normal X \n",
      "tensor([[1., 2., 3.],\n",
      "        [4., 5., 6.]])\n",
      "X mean : 3.5\n",
      "X mean shape : torch.Size([])\n",
      "\n",
      "--------------------------------\n",
      "\n",
      "X.mean(0) : tensor([2.5000, 3.5000, 4.5000])\n",
      "X.mean(0).shape : torch.Size([3])\n",
      "X.mean(0,keepdim=True).shape : torch.Size([1, 3])\n",
      "\n"
     ]
    }
   ],
   "source": [
    "print(f'''\n",
    "Normal X \n",
    "{X}\n",
    "X mean : {X.mean()}\n",
    "X mean shape : {X.mean().shape}\n",
    "\n",
    "--------------------------------\n",
    "\n",
    "X.mean(0) : {X.mean(0)}\n",
    "X.mean(0).shape : {X.mean(0).shape}\n",
    "X.mean(0,keepdim=True).shape : {X.mean(0,keepdim=True).shape}\n",
    "''')"
   ]
  },
  {
   "cell_type": "markdown",
   "id": "6093c658",
   "metadata": {},
   "source": [
    "# Max"
   ]
  },
  {
   "cell_type": "code",
   "execution_count": 17,
   "id": "ce439440",
   "metadata": {},
   "outputs": [
    {
     "name": "stdout",
     "output_type": "stream",
     "text": [
      "\n",
      "tensor([[1., 2., 3.],\n",
      "        [4., 5., 6.]])\n",
      "------------------------\n",
      "X max : 6.0\n",
      "arg X max : 5\n",
      "-------dim = 1----------\n",
      "X max : torch.return_types.max(\n",
      "values=tensor([3., 6.]),\n",
      "indices=tensor([2, 2]))\n",
      "arg X max : tensor([2, 2])\n",
      "X max values shape : torch.Size([2])\n",
      "--------keepdim = True---------\n",
      "X max : torch.return_types.max(\n",
      "values=tensor([[4., 5., 6.]]),\n",
      "indices=tensor([[1, 1, 1]]))\n",
      "X max values shape : torch.Size([1, 3])\n",
      "\n"
     ]
    }
   ],
   "source": [
    "print(f'''\n",
    "{X}\n",
    "------------------------\n",
    "X max : {X.max()}\n",
    "arg X max : {X.argmax()}\n",
    "-------dim = 1----------\n",
    "X max : {X.max(1)}\n",
    "arg X max : {X.argmax(1)}\n",
    "X max values shape : {X.max(1).values.shape}\n",
    "--------keepdim = True---------\n",
    "X max : {X.max(0,keepdim=True)}\n",
    "X max values shape : {X.max(0,keepdim=True).values.shape}\n",
    "''')"
   ]
  },
  {
   "cell_type": "markdown",
   "id": "8defde32",
   "metadata": {},
   "source": [
    "# Binary Operators"
   ]
  },
  {
   "cell_type": "code",
   "execution_count": 19,
   "id": "e8aa5734",
   "metadata": {},
   "outputs": [
    {
     "name": "stdout",
     "output_type": "stream",
     "text": [
      "X + Y : \n",
      "tensor([[2., 2., 5.],\n",
      "        [5., 5., 7.]])\n",
      "Element wise mult : \n",
      "tensor([[1., 0., 6.],\n",
      "        [4., 0., 6.]])\n",
      "Matrix multiplication : \n",
      "tensor([[ 5.,  0.,  6.],\n",
      "        [ 7.,  0.,  9.],\n",
      "        [ 9.,  0., 12.]])\n",
      "Matrix multiplication : \n",
      "tensor([[ 7.,  4.],\n",
      "        [16., 10.]])\n",
      "Inner product : 7.0\n",
      "X[0] shape : torch.Size([3]), X[0] : tensor([1., 2., 3.])\n"
     ]
    }
   ],
   "source": [
    "X = torch.Tensor([[1,2,3],[4,5,6]])\n",
    "Y = torch.Tensor([[1,0,2],[1,0,1]])\n",
    "\n",
    "# Addition\n",
    "print(f\"X + Y : \\n{X+Y}\")\n",
    "\n",
    "# Element-wise multiplication\n",
    "print(f\"Element wise mult : \\n{X*Y}\")\n",
    "\n",
    "# Matrix multiplication\n",
    "print(f\"Matrix multiplication : \\n{torch.matmul(X.T,Y)}\")\n",
    "print(f\"Matrix multiplication : \\n{torch.matmul(X,Y.T)}\")\n",
    "\n",
    "# Inner product\n",
    "print(f\"Inner product : {torch.dot(X[0],Y[0])}\\nX[0] shape : {X[0].shape}, X[0] : {X[0]}\")"
   ]
  },
  {
   "cell_type": "markdown",
   "id": "bd5bb963",
   "metadata": {},
   "source": [
    "# Tensor manipulation"
   ]
  },
  {
   "cell_type": "code",
   "execution_count": 68,
   "id": "9aa424e0",
   "metadata": {},
   "outputs": [
    {
     "name": "stdout",
     "output_type": "stream",
     "text": [
      "tensor([[[0.3564, 0.8051, 0.7059],\n",
      "         [0.8325, 0.7229, 0.3858],\n",
      "         [0.3478, 0.2356, 0.5386]],\n",
      "\n",
      "        [[0.0176, 0.1548, 0.1779],\n",
      "         [0.3097, 0.9111, 0.0365],\n",
      "         [0.4334, 0.1034, 0.5609]]])\n",
      "torch.Size([2, 3, 3])\n"
     ]
    }
   ],
   "source": [
    "m = torch.rand((2,3,3))\n",
    "print(m)\n",
    "print(m.shape)"
   ]
  },
  {
   "cell_type": "code",
   "execution_count": 69,
   "id": "325d58a7",
   "metadata": {},
   "outputs": [
    {
     "name": "stdout",
     "output_type": "stream",
     "text": [
      "mv : \n",
      "tensor([[[0.3564, 0.8051, 0.7059],\n",
      "         [0.8325, 0.7229, 0.3858]],\n",
      "\n",
      "        [[0.3478, 0.2356, 0.5386],\n",
      "         [0.0176, 0.1548, 0.1779]],\n",
      "\n",
      "        [[0.3097, 0.9111, 0.0365],\n",
      "         [0.4334, 0.1034, 0.5609]]])\n",
      "shape : torch.Size([3, 2, 3])\n"
     ]
    }
   ],
   "source": [
    "# View\n",
    "mv = m.view(3,2,3)\n",
    "print(f\"mv : \\n{mv}\\nshape : {mv.shape}\")"
   ]
  },
  {
   "cell_type": "code",
   "execution_count": 79,
   "id": "6a979206",
   "metadata": {},
   "outputs": [
    {
     "name": "stdout",
     "output_type": "stream",
     "text": [
      "\n",
      "original :\n",
      "tensor([[[0.2920, 0.5185, 0.9047]],\n",
      "\n",
      "        [[0.9240, 0.9311, 0.6742]]])\n",
      "shape : torch.Size([2, 1, 3])\n",
      "-------------------squeeze dim = 1-----------------\n",
      "matrix :\n",
      "tensor([[0.2920, 0.5185, 0.9047],\n",
      "        [0.9240, 0.9311, 0.6742]])\n",
      "shape : torch.Size([2, 3])\n",
      "---------------unsqueeze-----------------\n",
      "dim = 0\n",
      "tensor([[[0.2920, 0.5185, 0.9047],\n",
      "         [0.9240, 0.9311, 0.6742]]])\n",
      "shape : torch.Size([1, 2, 3])\n",
      "\n",
      "dim = 1\n",
      "tensor([[[0.2920, 0.5185, 0.9047]],\n",
      "\n",
      "        [[0.9240, 0.9311, 0.6742]]])\n",
      "shape : torch.Size([2, 1, 3])\n",
      "\n",
      "dim = 2\n",
      "tensor([[[0.2920],\n",
      "         [0.5185],\n",
      "         [0.9047]],\n",
      "\n",
      "        [[0.9240],\n",
      "         [0.9311],\n",
      "         [0.6742]]])\n",
      "shape : torch.Size([2, 3, 1])\n",
      "\n",
      "\n"
     ]
    }
   ],
   "source": [
    "# Squeeze \n",
    "V = torch.rand((2,1,3))\n",
    "VS = V.squeeze(dim=1)\n",
    "VU = VS.unsqueeze(dim=0)\n",
    "VU1 = VS.unsqueeze(dim=1)\n",
    "VU2 = VS.unsqueeze(dim=2)\n",
    "# VU3 = VS.unsqueeze(dim=3) -> index error 발생\n",
    "print(f'''\n",
    "original :\n",
    "{V}\n",
    "shape : {V.shape}\n",
    "-------------------squeeze dim = 1-----------------\n",
    "matrix :\n",
    "{V.squeeze(dim=1)}\n",
    "shape : {V.squeeze(dim=1).shape}\n",
    "---------------unsqueeze-----------------\n",
    "dim = 0\n",
    "{VU}\n",
    "shape : {VU.shape}\n",
    "\n",
    "dim = 1\n",
    "{VU1}\n",
    "shape : {VU1.shape}\n",
    "\n",
    "dim = 2\n",
    "{VU2}\n",
    "shape : {VU2.shape}\n",
    "\n",
    "''')"
   ]
  },
  {
   "cell_type": "markdown",
   "id": "8c6ffd5f",
   "metadata": {},
   "source": [
    "# Broadcasting"
   ]
  },
  {
   "cell_type": "code",
   "execution_count": 80,
   "id": "14ce5f4d",
   "metadata": {},
   "outputs": [
    {
     "name": "stdout",
     "output_type": "stream",
     "text": [
      "torch.Size([2, 3])\n",
      "torch.Size([2])\n"
     ]
    }
   ],
   "source": [
    "a = torch.Tensor([[1,2,3],[4,5,6]])\n",
    "print(a.shape)\n",
    "b = torch.Tensor([1,2])\n",
    "print(b.shape)"
   ]
  },
  {
   "cell_type": "code",
   "execution_count": 83,
   "id": "512fcdd3",
   "metadata": {},
   "outputs": [
    {
     "name": "stdout",
     "output_type": "stream",
     "text": [
      "tensor([[2., 6.],\n",
      "        [3., 7.],\n",
      "        [4., 8.]])\n"
     ]
    }
   ],
   "source": [
    "# print(a+b) -> error\n",
    "print(a.T + b)\n",
    "# 마지막이 같아야 한다 이 말이지~"
   ]
  },
  {
   "cell_type": "code",
   "execution_count": 86,
   "id": "f95587a1",
   "metadata": {},
   "outputs": [
    {
     "name": "stdout",
     "output_type": "stream",
     "text": [
      "arr_n type : <class 'numpy.ndarray'>\n",
      "tensor type : <class 'torch.Tensor'>\n",
      "numpy type : <class 'numpy.ndarray'>\n"
     ]
    }
   ],
   "source": [
    "# ndarray <-> tensor\n",
    "arr = [[1,2,3],[4,5,6]]\n",
    "arr_n = np.array(arr)\n",
    "arr_t = torch.from_numpy(arr_n)\n",
    "print(f\"arr_n type : {type(arr_n)}\")\n",
    "print(f\"tensor type : {type(arr_t)}\")\n",
    "print(f\"numpy type : {type(arr_t.numpy())}\")"
   ]
  },
  {
   "cell_type": "code",
   "execution_count": null,
   "id": "f3f42adf",
   "metadata": {},
   "outputs": [],
   "source": []
  }
 ],
 "metadata": {
  "kernelspec": {
   "display_name": "Python 3",
   "language": "python",
   "name": "python3"
  },
  "language_info": {
   "codemirror_mode": {
    "name": "ipython",
    "version": 3
   },
   "file_extension": ".py",
   "mimetype": "text/x-python",
   "name": "python",
   "nbconvert_exporter": "python",
   "pygments_lexer": "ipython3",
   "version": "3.9.6"
  }
 },
 "nbformat": 4,
 "nbformat_minor": 5
}
