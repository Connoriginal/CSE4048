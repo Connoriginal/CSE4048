{
 "cells": [
  {
   "cell_type": "code",
   "execution_count": 1,
   "id": "07d40814",
   "metadata": {},
   "outputs": [],
   "source": [
    "import numpy as np\n",
    "import matplotlib.pyplot as plt\n",
    "import torch\n",
    "import torch.nn as nn\n",
    "import torch.optim as optim\n",
    "import torchvision\n",
    "import torchvision.datasets as datasets\n",
    "from torchvision import transforms\n",
    "from torch.utils.data import DataLoader"
   ]
  },
  {
   "cell_type": "code",
   "execution_count": 9,
   "id": "a2cf7cbd",
   "metadata": {},
   "outputs": [],
   "source": [
    "# Data preparation\n",
    "batch_size = 16\n",
    "\n",
    "train_data = datasets.MNIST('./datasets',train=True,download=True,transform=transforms.ToTensor())\n",
    "test_data = datasets.MNIST('./datasets',train=False,download=True,transform=transforms.ToTensor())\n",
    "\n",
    "train_loader = DataLoader(train_data, batch_size = batch_size, shuffle=True)\n",
    "test_loader = DataLoader(test_data, batch_size = batch_size)"
   ]
  },
  {
   "cell_type": "code",
   "execution_count": 13,
   "id": "496dc297",
   "metadata": {},
   "outputs": [],
   "source": [
    "class MLP(nn.Module):\n",
    "    def __init__(self,hidden_units=[512,256,128,64]):\n",
    "        super().__init__()\n",
    "        \n",
    "        self.in_dim = 28*28\n",
    "        self.out_dim = 10\n",
    "        \n",
    "        self.fc_layer = []\n",
    "        self.fc_layer.append(nn.Linear(self.in_dim,hidden_units[0]))\n",
    "        for idx in range(len(hidden_units)-1):\n",
    "            self.fc_layer.append(nn.Linear(hidden_units[idx],hidden_units[idx+1]))\n",
    "        self.fc_layer.append(nn.Linear(hidden_units[-1],self.out_dim))\n",
    "        \n",
    "        self.fc_layer = nn.ModuleList(self.fc_layer)\n",
    "        \n",
    "        self.relu = nn.ReLU()\n",
    "        \n",
    "    def forward(self,x):\n",
    "        a = x.view(-1,self.in_dim)\n",
    "        for i in range(len(self.fc_layer)):\n",
    "            z = self.fc_layer[i](a)\n",
    "            if i != len(self.fc_layer) -1 :\n",
    "                a = self.relu(z)\n",
    "            else :\n",
    "                out = z\n",
    "        return out"
   ]
  },
  {
   "cell_type": "code",
   "execution_count": 17,
   "id": "c8f4b463",
   "metadata": {},
   "outputs": [],
   "source": [
    "model = MLP()\n",
    "criterion = nn.CrossEntropyLoss()\n",
    "optimizer = optim.SGD(model.parameters(),lr = 0.01)"
   ]
  },
  {
   "cell_type": "code",
   "execution_count": 18,
   "id": "d93f3e9c",
   "metadata": {},
   "outputs": [
    {
     "name": "stdout",
     "output_type": "stream",
     "text": [
      "[1, 2000] loss : 2.18490\n",
      "[2, 2000] loss : 0.41724\n",
      "[3, 2000] loss : 0.20887\n",
      "[4, 2000] loss : 0.13515\n",
      "[5, 2000] loss : 0.10067\n",
      "[6, 2000] loss : 0.07849\n",
      "[7, 2000] loss : 0.06078\n",
      "[8, 2000] loss : 0.04849\n",
      "[9, 2000] loss : 0.03829\n",
      "[10, 2000] loss : 0.03163\n",
      "Finished Training\n"
     ]
    }
   ],
   "source": [
    "for epoch in range(10):\n",
    "    running_loss = 0.0\n",
    "    for i,data in enumerate(train_loader):\n",
    "        inputs, labels = data\n",
    "        \n",
    "        optimizer.zero_grad()\n",
    "        \n",
    "        yhat = model(inputs)\n",
    "        \n",
    "        loss = criterion(yhat,labels)\n",
    "        loss.backward()\n",
    "        optimizer.step()\n",
    "        \n",
    "        running_loss += loss.item()\n",
    "        if (i+1) % 2000 == 0:\n",
    "            print(\"[%d,%5d] loss : %.5f\"%(epoch+1,i+1,running_loss/2000))\n",
    "            running_loss = 0.0\n",
    "            \n",
    "print(\"Finished Training\")"
   ]
  },
  {
   "cell_type": "code",
   "execution_count": null,
   "id": "bce6921d",
   "metadata": {},
   "outputs": [],
   "source": []
  }
 ],
 "metadata": {
  "kernelspec": {
   "display_name": "Python 3",
   "language": "python",
   "name": "python3"
  },
  "language_info": {
   "codemirror_mode": {
    "name": "ipython",
    "version": 3
   },
   "file_extension": ".py",
   "mimetype": "text/x-python",
   "name": "python",
   "nbconvert_exporter": "python",
   "pygments_lexer": "ipython3",
   "version": "3.9.6"
  }
 },
 "nbformat": 4,
 "nbformat_minor": 5
}
