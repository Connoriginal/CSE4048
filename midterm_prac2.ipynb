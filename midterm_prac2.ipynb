{
 "cells": [
  {
   "cell_type": "code",
   "execution_count": 72,
   "id": "54f2c592",
   "metadata": {},
   "outputs": [],
   "source": [
    "import torch\n",
    "import numpy as np\n",
    "import matplotlib.pyplot as plt\n",
    "import torch.nn as nn\n",
    "import torch.optim as optim\n",
    "import torchvision\n",
    "import torchvision.datasets as datasets\n",
    "from torchvision import transforms\n",
    "from torch.utils.data import DataLoader"
   ]
  },
  {
   "cell_type": "code",
   "execution_count": 73,
   "id": "8a9a5d23",
   "metadata": {},
   "outputs": [
    {
     "name": "stdout",
     "output_type": "stream",
     "text": [
      "torch.Size([4])\n",
      "torch.Size([4])\n",
      "tensor(20.)\n",
      "tensor(20.)\n",
      "tensor(20.)\n"
     ]
    }
   ],
   "source": [
    "x1 = torch.Tensor([1,2,3,4])\n",
    "print(x1.shape)\n",
    "x2 = torch.Tensor([4,3,2,1])\n",
    "print(x2.shape)\n",
    "\n",
    "print(torch.matmul(x1,x2))\n",
    "print(torch.inner(x1,x2))\n",
    "print(torch.dot(x1,x2))"
   ]
  },
  {
   "cell_type": "code",
   "execution_count": 24,
   "id": "a1d886fa",
   "metadata": {},
   "outputs": [
    {
     "name": "stdout",
     "output_type": "stream",
     "text": [
      "\n",
      "w shape : torch.Size([2]) , x.shape : torch.Size([2])\n",
      "requires grad , w : True, x : False\n",
      "w is tensor([ 1.2726, -0.5472], requires_grad=True)\n",
      "x is tensor([1., 2.]) \n",
      "\n"
     ]
    }
   ],
   "source": [
    "# Autograd example\n",
    "## Initialization\n",
    "w = torch.randn(2,requires_grad=True)\n",
    "x = torch.Tensor([1,2])\n",
    "print(f'''\n",
    "w shape : {w.shape} , x.shape : {x.shape}\n",
    "requires grad , w : {w.requires_grad}, x : {x.requires_grad}\n",
    "w is {w}\n",
    "x is {x} \n",
    "''')"
   ]
  },
  {
   "cell_type": "code",
   "execution_count": 25,
   "id": "a95450f2",
   "metadata": {},
   "outputs": [
    {
     "name": "stdout",
     "output_type": "stream",
     "text": [
      "loss : 1.747126579284668\n",
      "\n",
      "w is tensor([ 1.2726, -0.5472], requires_grad=True)\n",
      "x is tensor([1., 2.])\n",
      "yhat is 0.17821085453033447\n",
      "gradient of w is tensor([-2.6436, -5.2872])\n",
      "\n"
     ]
    }
   ],
   "source": [
    "# Predict output\n",
    "yhat = torch.inner(w,x)\n",
    "# Compute loss (L2 squared Error)\n",
    "loss = (x.mean() - yhat)**2\n",
    "print(f\"loss : {loss}\")\n",
    "#backpropagation\n",
    "loss.backward()\n",
    "# Intermediate results\n",
    "print(f'''\n",
    "w is {w}\n",
    "x is {x}\n",
    "yhat is {yhat}\n",
    "gradient of w is {w.grad}\n",
    "''')"
   ]
  },
  {
   "cell_type": "code",
   "execution_count": 22,
   "id": "228003ab",
   "metadata": {},
   "outputs": [
    {
     "name": "stdout",
     "output_type": "stream",
     "text": [
      "\n",
      "w.requires_grad : False\n",
      "w is tensor([0.8136, 0.3432])\n",
      "w.grad is None\n",
      "\n"
     ]
    }
   ],
   "source": [
    "# Update parameters\n",
    "lr = 0.1\n",
    "with torch.no_grad():\n",
    "    w = w - lr*w.grad\n",
    "print(f'''\n",
    "w.requires_grad : {w.requires_grad}\n",
    "w is {w}\n",
    "w.grad is {w.grad}\n",
    "''')\n",
    "w.requires_grad = True"
   ]
  },
  {
   "cell_type": "code",
   "execution_count": 26,
   "id": "8784c15f",
   "metadata": {},
   "outputs": [
    {
     "name": "stdout",
     "output_type": "stream",
     "text": [
      "\n",
      "Inplace operation\n",
      "w.requires_grad : True\n",
      "w is tensor([ 1.5370, -0.0185], requires_grad=True)\n",
      "w.grad is tensor([-2.6436, -5.2872])\n",
      "\n"
     ]
    }
   ],
   "source": [
    "# Update parameters\n",
    "lr = 0.1\n",
    "with torch.no_grad():\n",
    "    w -= lr*w.grad\n",
    "print(f'''\n",
    "Inplace operation\n",
    "w.requires_grad : {w.requires_grad}\n",
    "w is {w}\n",
    "w.grad is {w.grad}\n",
    "''')\n",
    "w.requires_grad = True"
   ]
  },
  {
   "cell_type": "markdown",
   "id": "3635901a",
   "metadata": {},
   "source": [
    "# Model 관련 연습"
   ]
  },
  {
   "cell_type": "code",
   "execution_count": 37,
   "id": "323ac6ee",
   "metadata": {},
   "outputs": [],
   "source": [
    "# data preparation\n",
    "x_seeds = np.array([(0,0),(1,0),(0,1),(1,1)],dtype=np.float32)\n",
    "y_seeds = np.array([0,1,1,0])\n",
    "\n",
    "N = 1000\n",
    "idxs = np.random.randint(0,4,N)\n",
    "X = x_seeds[idxs]\n",
    "Y = y_seeds[idxs]\n",
    "X += np.random.normal(scale=0.25,size=X.shape)"
   ]
  },
  {
   "cell_type": "code",
   "execution_count": 43,
   "id": "548b7ac6",
   "metadata": {},
   "outputs": [],
   "source": [
    "# Using pytorch\n",
    "class pyt_shallow_nn():\n",
    "    def __init__(self,num_input,num_hiddens):\n",
    "        self.num_input = num_input\n",
    "        self.num_hiddens = num_hiddens\n",
    "        \n",
    "        self.W1 = torch.randn((self.num_hiddens, self.num_input),requires_grad=True)\n",
    "        self.b1 = torch.randn(self.num_hiddens, requires_grad=True)\n",
    "        self.w2 = torch.randn(self.num_hiddens, requires_grad=True)\n",
    "        self.b2 = torch.randn(1, requires_grad=True)\n",
    "        \n",
    "        self.tanh = torch.nn.Tanh()\n",
    "        self.sigmoid = torch.nn.Sigmoid()\n",
    "    \n",
    "    def forward(self,x):\n",
    "        z1 = torch.matmul(self.W1,x) + self.b1\n",
    "        a1 = self.tanh(z1)\n",
    "        z2 = torch.inner(self.w2,a1) + self.b2 # Vector 에서는 matmul, inner , dot 동일\n",
    "        a2 = self.sigmoid(z2)\n",
    "        return a2, (z1,a1,z2,a2)"
   ]
  },
  {
   "cell_type": "code",
   "execution_count": 49,
   "id": "24d159ed",
   "metadata": {},
   "outputs": [
    {
     "name": "stdout",
     "output_type": "stream",
     "text": [
      "0.703167968571186\n",
      "0.542680909126997\n",
      "0.40984806953370573\n",
      "0.3309936699979007\n",
      "0.28382578406482933\n",
      "0.2534042961001396\n",
      "0.23116889131627977\n",
      "0.2122963788304478\n",
      "0.19556920563802124\n",
      "0.1820383599512279\n"
     ]
    }
   ],
   "source": [
    "lr = 1.0\n",
    "m = len(X)\n",
    "model = pyt_shallow_nn(2,4)\n",
    "for epoch in range(100):\n",
    "    cost = 0.0\n",
    "    for x,y in zip(X,Y) :\n",
    "        x_torch = torch.from_numpy(x)\n",
    "        yhat,_ = model.forward(x_torch)\n",
    "        loss = -y*torch.log(yhat+0.0001) - (1-y)*torch.log(1-yhat+0.0001)\n",
    "        loss.backward()\n",
    "        cost += loss.item()\n",
    "    with torch.no_grad():\n",
    "        model.W1 = model.W1 - lr*model.W1.grad/m\n",
    "        model.b1 = model.b1 - lr*model.b1.grad/m\n",
    "        model.w2 = model.w2 - lr*model.w2.grad/m\n",
    "        model.b2 = model.b2 - lr*model.b2.grad/m\n",
    "    model.W1.requires_grad = True\n",
    "    model.b1.requires_grad = True\n",
    "    model.w2.requires_grad = True\n",
    "    model.b2.requires_grad = True\n",
    "    cost /= m\n",
    "    if epoch % 10 == 0:\n",
    "        print(cost)\n",
    "        "
   ]
  },
  {
   "cell_type": "code",
   "execution_count": 50,
   "id": "3b2e6da1",
   "metadata": {},
   "outputs": [],
   "source": [
    "# nn.module 활용\n",
    "class MyLinear(nn.Module):\n",
    "    def __init__(self,in_features,out_features):\n",
    "        super().__init__()\n",
    "        self.weight = nn.Parameter(torch.randn(in_features,out_features))\n",
    "        self.bias = nn.Parameter(torch.randn(out_features))\n",
    "    \n",
    "    def forward(self, input):\n",
    "        return (input @ self.weight) + self.bias"
   ]
  },
  {
   "cell_type": "code",
   "execution_count": 51,
   "id": "44025e11",
   "metadata": {},
   "outputs": [
    {
     "data": {
      "text/plain": [
       "tensor([-0.2266,  2.4446, -1.1795], grad_fn=<AddBackward0>)"
      ]
     },
     "execution_count": 51,
     "metadata": {},
     "output_type": "execute_result"
    }
   ],
   "source": [
    "m = MyLinear(4,3)\n",
    "sample_input = torch.randn(4)\n",
    "m(sample_input)"
   ]
  },
  {
   "cell_type": "code",
   "execution_count": 55,
   "id": "6e52cd1c",
   "metadata": {},
   "outputs": [],
   "source": [
    "class shallow_neural_network(nn.Module):\n",
    "    def __init__(self, num_input,num_hiddens):\n",
    "        super().__init__()\n",
    "        self.num_input = num_input\n",
    "        self.num_hiddens = num_hiddens\n",
    "        \n",
    "        self.layer1 = nn.Linear(self.num_input,self.num_hiddens)\n",
    "        self.layer2 = nn.Linear(self.num_hiddens,1)\n",
    "        self.tanh = nn.Tanh()\n",
    "        self.sigmoid = nn.Sigmoid()\n",
    "    \n",
    "    def forward(self,x):\n",
    "        z1 = self.layer1(x)\n",
    "        a1 = self.tanh(z1)\n",
    "        z2 = self.layer2(a1)\n",
    "        a2 = self.sigmoid(z2)\n",
    "        return a2,(z1,a1,z2,a2)\n",
    "        "
   ]
  },
  {
   "cell_type": "code",
   "execution_count": 70,
   "id": "365691c3",
   "metadata": {},
   "outputs": [
    {
     "name": "stdout",
     "output_type": "stream",
     "text": [
      "0 tensor(0.6941, grad_fn=<DivBackward0>)\n",
      "10 tensor(0.6838, grad_fn=<DivBackward0>)\n",
      "20 tensor(0.6672, grad_fn=<DivBackward0>)\n",
      "30 tensor(0.6431, grad_fn=<DivBackward0>)\n",
      "40 tensor(0.6152, grad_fn=<DivBackward0>)\n",
      "50 tensor(0.5841, grad_fn=<DivBackward0>)\n",
      "60 tensor(0.5437, grad_fn=<DivBackward0>)\n",
      "70 tensor(0.4817, grad_fn=<DivBackward0>)\n",
      "80 tensor(0.4026, grad_fn=<DivBackward0>)\n",
      "90 tensor(0.3305, grad_fn=<DivBackward0>)\n"
     ]
    }
   ],
   "source": [
    "# Train\n",
    "num_epoch = 100\n",
    "lr = 1.0\n",
    "\n",
    "model = shallow_neural_network(2,3)\n",
    "optimizer = optim.SGD(model.parameters(),lr = lr)\n",
    "loss = nn.BCELoss()\n",
    "\n",
    "for epoch in range(num_epoch):\n",
    "    optimizer.zero_grad()\n",
    "    \n",
    "    cost = 0.0\n",
    "    for x,y in zip(X,Y):\n",
    "        x_torch = torch.from_numpy(x)\n",
    "        y_torch = torch.FloatTensor([y])\n",
    "        \n",
    "        yhat,_ = model(x_torch)\n",
    "        \n",
    "        loss_val = loss(yhat,y_torch)\n",
    "        cost += loss_val\n",
    "    cost = cost/len(X)\n",
    "    cost.backward()\n",
    "    optimizer.step()\n",
    "    if(epoch % 10 == 0):\n",
    "        print(epoch,cost)\n"
   ]
  },
  {
   "cell_type": "markdown",
   "id": "33277fe2",
   "metadata": {},
   "source": [
    "# MLP"
   ]
  },
  {
   "cell_type": "code",
   "execution_count": 74,
   "id": "b06c74e8",
   "metadata": {},
   "outputs": [],
   "source": [
    "# Data preparation\n",
    "batch_size = 16\n",
    "\n",
    "train_data = datasets.MNIST('./datasets',train=True,download=True,transform=transforms.ToTensor())\n",
    "test_data = datasets.MNIST('./datasets',train=False,download=True,transform=transforms.ToTensor())\n",
    "\n",
    "train_loader = DataLoader(train_data, batch_size = batch_size, shuffle=True)\n",
    "test_loader = DataLoader(test_data, batch_size = batch_size)"
   ]
  },
  {
   "cell_type": "code",
   "execution_count": 77,
   "id": "08f83bbd",
   "metadata": {},
   "outputs": [],
   "source": [
    "class MLP(nn.Module):\n",
    "    def __init__(self):\n",
    "        super().__init__()\n",
    "        self.in_dim = 28*28 #MNIST\n",
    "        self.out_dim = 10\n",
    "        \n",
    "        self.fc1 = nn.Linear(self.in_dim,512)\n",
    "        self.fc2 = nn.Linear(512,256)\n",
    "        self.fc3 = nn.Linear(256,128)\n",
    "        self.fc4 = nn.Linear(128,64)\n",
    "        self.fc5 = nn.Linear(64,self.out_dim)\n",
    "        \n",
    "        self.relu = nn.ReLU()\n",
    "        self.log_softmax = nn.LogSoftmax()\n",
    "        \n",
    "    def forward(self,x):\n",
    "        a1 = self.relu(self.fc1(x.view(-1,self.in_dim)))\n",
    "        a2 = self.relu(self.fc2(a1))\n",
    "        a3 = self.relu(self.fc3(a2))\n",
    "        a4 = self.relu(self.fc4(a3))\n",
    "        logit = self.relu(self.fc5(a4))\n",
    "        return logit"
   ]
  },
  {
   "cell_type": "code",
   "execution_count": 85,
   "id": "e190b0bb",
   "metadata": {},
   "outputs": [],
   "source": [
    "model = MLP()\n",
    "criterion = nn.CrossEntropyLoss()\n",
    "optimizer = optim.SGD(model.parameters(),lr = 0.01)"
   ]
  },
  {
   "cell_type": "code",
   "execution_count": 86,
   "id": "a467d370",
   "metadata": {},
   "outputs": [
    {
     "name": "stdout",
     "output_type": "stream",
     "text": [
      "[1,  2000] loss : 2.287\n",
      "[2,  2000] loss : 1.282\n",
      "[3,  2000] loss : 1.095\n",
      "[4,  2000] loss : 1.036\n",
      "[5,  2000] loss : 1.007\n",
      "[6,  2000] loss : 0.988\n",
      "[7,  2000] loss : 0.979\n",
      "[8,  2000] loss : 0.768\n",
      "[9,  2000] loss : 0.739\n",
      "[10,  2000] loss : 0.735\n",
      "[11,  2000] loss : 0.721\n",
      "[12,  2000] loss : 0.716\n",
      "[13,  2000] loss : 0.709\n",
      "[14,  2000] loss : 0.711\n",
      "[15,  2000] loss : 0.698\n",
      "[16,  2000] loss : 0.694\n",
      "[17,  2000] loss : 0.695\n",
      "[18,  2000] loss : 0.690\n",
      "[19,  2000] loss : 0.691\n",
      "[20,  2000] loss : 0.696\n",
      "finished Training\n"
     ]
    }
   ],
   "source": [
    "for epoch in range(20):\n",
    "    running_loss = 0.0\n",
    "    for i,data in enumerate(train_loader):\n",
    "        inputs, labels = data\n",
    "        optimizer.zero_grad()\n",
    "        \n",
    "        yhat = model(inputs)\n",
    "        \n",
    "        loss = criterion(yhat,labels)\n",
    "        \n",
    "        loss.backward()\n",
    "        optimizer.step()\n",
    "        \n",
    "        running_loss += loss.item()\n",
    "        if(i+1)%2000 == 0:\n",
    "            print(\"[%d, %5d] loss : %.3f\"%(epoch+1,i+1,running_loss/2000))\n",
    "            running_loss = 0\n",
    "\n",
    "print('finished Training')\n",
    "            "
   ]
  },
  {
   "cell_type": "code",
   "execution_count": 87,
   "id": "1e17e67a",
   "metadata": {},
   "outputs": [],
   "source": [
    "# Test\n",
    "def imshow(img):\n",
    "    npimg = img.numpy()\n",
    "    print(f\"npimg.shape : {npimg.shape}\")\n",
    "    np_trans = np.transpose(npimg,(1,2,0))\n",
    "    print(f\"np_trans.shape : {np_trans.shape}\")\n",
    "    plt.imshow(np_trans)\n",
    "    plt.show()\n"
   ]
  },
  {
   "cell_type": "code",
   "execution_count": 90,
   "id": "cd854caa",
   "metadata": {},
   "outputs": [
    {
     "name": "stdout",
     "output_type": "stream",
     "text": [
      "npimg.shape : (3, 32, 482)\n",
      "np_trans.shape : (32, 482, 3)\n"
     ]
    },
    {
     "data": {
      "image/png": "[encoded data removed]",
      "text/plain": [
       "<Figure size 432x288 with 1 Axes>"
      ]
     },
     "metadata": {
      "needs_background": "light"
     },
     "output_type": "display_data"
    },
    {
     "name": "stdout",
     "output_type": "stream",
     "text": [
      "temp : \n",
      "tensor([ True,  True,  True,  True, False,  True, False, False,  True, False,\n",
      "         True,  True, False,  True,  True,  True])\n",
      "shape : torch.Size([16])\n",
      "7855/10000\n",
      "Accuracy : 0.7854999899864197\n"
     ]
    }
   ],
   "source": [
    "dataiter = iter(test_loader)\n",
    "images, labels = dataiter.next()\n",
    "\n",
    "imshow(torchvision.utils.make_grid(images, nrow=batch_size))\n",
    "\n",
    "n_predict = 0\n",
    "n_correct = 0\n",
    "\n",
    "for i,data in enumerate(test_loader) :\n",
    "    inputs, labels = data\n",
    "    outputs = model(inputs)\n",
    "    _, predicted = torch.max(outputs,1) # indices\n",
    "    \n",
    "    n_predict += len(predicted)\n",
    "    if(i == 0):\n",
    "        temp = (labels == predicted)\n",
    "        print(f\"temp : \\n{temp}\\nshape : {temp.shape}\")\n",
    "    n_correct += (labels == predicted).sum()\n",
    "\n",
    "print(f\"{n_correct}/{n_predict}\")\n",
    "print(f\"Accuracy : {n_correct/n_predict}\")"
   ]
  },
  {
   "cell_type": "code",
   "execution_count": null,
   "id": "0ada53b0",
   "metadata": {},
   "outputs": [],
   "source": []
  }
 ],
 "metadata": {
  "kernelspec": {
   "display_name": "Python 3",
   "language": "python",
   "name": "python3"
  },
  "language_info": {
   "codemirror_mode": {
    "name": "ipython",
    "version": 3
   },
   "file_extension": ".py",
   "mimetype": "text/x-python",
   "name": "python",
   "nbconvert_exporter": "python",
   "pygments_lexer": "ipython3",
   "version": "3.9.6"
  }
 },
 "nbformat": 4,
 "nbformat_minor": 5
}
