{
 "cells": [
  {
   "cell_type": "markdown",
   "id": "d2c6da27",
   "metadata": {},
   "source": [
    "# MLP data : MNIST"
   ]
  },
  {
   "cell_type": "code",
   "execution_count": 1,
   "id": "50a1b49c",
   "metadata": {},
   "outputs": [],
   "source": [
    "import numpy as np\n",
    "import matplotlib.pyplot as plt\n",
    "import torch\n",
    "import torch.nn as nn\n",
    "import torch.optim as optim\n",
    "import torchvision\n",
    "import torchvision.datasets as datasets\n",
    "from torchvision import transforms\n",
    "from torch.utils.data import DataLoader"
   ]
  },
  {
   "cell_type": "markdown",
   "id": "6a764963",
   "metadata": {},
   "source": [
    "## Data preprocessing"
   ]
  },
  {
   "cell_type": "code",
   "execution_count": 2,
   "id": "a555d917",
   "metadata": {},
   "outputs": [],
   "source": [
    "batch_size = 12\n",
    "\n",
    "train_data = datasets.MNIST(\"./datasets/\", train=True, download=True,transform=transforms.ToTensor())\n",
    "test_data = datasets.MNIST(\"./datasets/\",train=False,download=True,transform=transforms.ToTensor())\n",
    "\n",
    "train_loader = DataLoader(train_data, batch_size = batch_size, shuffle=True)\n",
    "test_loader = DataLoader(test_data,batch_size = batch_size)"
   ]
  },
  {
   "cell_type": "markdown",
   "id": "8512f500",
   "metadata": {},
   "source": [
    "## Model\n",
    "\n",
    "> Hyper parameter로 hidden units을 받을려면 nn.ModuleList()를 사용해야함"
   ]
  },
  {
   "cell_type": "code",
   "execution_count": 3,
   "id": "3c3695ca",
   "metadata": {},
   "outputs": [],
   "source": [
    "class MLP(nn.Module):\n",
    "    def __init__(self):\n",
    "        super().__init__()\n",
    "        \n",
    "        self.in_dim = 28*28 # MNIST\n",
    "        self.out_dim = 10\n",
    "        \n",
    "        self.fc1 = nn.Linear(self.in_dim, 512)\n",
    "        self.fc2 = nn.Linear(512,256)\n",
    "        self.fc3 = nn.Linear(256,128)\n",
    "        self.fc4 = nn.Linear(128,64)\n",
    "        self.fc5 = nn.Linear(64,self.out_dim)\n",
    "        \n",
    "        self.relu = nn.ReLU()\n",
    "        self.log_softmax = nn.LogSoftmax()\n",
    "        \n",
    "    def forward(self,x):\n",
    "        a1 = self.relu(self.fc1(x.view(-1, self.in_dim)))\n",
    "        a2 = self.relu(self.fc2(a1))\n",
    "        a3 = self.relu(self.fc3(a2))\n",
    "        a4 = self.relu(self.fc4(a3))\n",
    "        logit = self.fc5(a4)\n",
    "        return logit"
   ]
  },
  {
   "cell_type": "code",
   "execution_count": 4,
   "id": "b5294be5",
   "metadata": {},
   "outputs": [],
   "source": [
    "class MLP_h(nn.Module):\n",
    "    def __init__(self, hidden_units = [512,256,128,64]):\n",
    "        super().__init__()\n",
    "        \n",
    "        self.in_dim = 28*28 # MNIST\n",
    "        self.out_dim = 10\n",
    "        \n",
    "        self.l_layers = []\n",
    "        self.l_layers.append(nn.Linear(self.in_dim,hidden_units[0]))\n",
    "        for i in range(len(hidden_units)-1) :\n",
    "            self.l_layers.append(nn.Linear(hidden_units[i],hidden_units[i+1]))\n",
    "        self.l_layers.append(nn.Linear(hidden_units[-1],self.out_dim))\n",
    "        \n",
    "        self.l_layers = nn.ModuleList(self.l_layers)\n",
    "        \n",
    "        self.relu = nn.ReLU()\n",
    "        self.log_softmax = nn.LogSoftmax()\n",
    "        \n",
    "    def forward(self,x):\n",
    "        a = x.view(-1,self.in_dim)\n",
    "        \n",
    "        for i in range(len(self.l_layers)) :\n",
    "            z = self.l_layers[i](a)\n",
    "            if i != len(self.l_layers) -1 :\n",
    "                a = self.relu(z)\n",
    "            else : \n",
    "                out = z\n",
    "                \n",
    "        return out"
   ]
  },
  {
   "cell_type": "markdown",
   "id": "9c3ca5dd",
   "metadata": {},
   "source": [
    "## Train"
   ]
  },
  {
   "cell_type": "code",
   "execution_count": 5,
   "id": "4a50c930",
   "metadata": {},
   "outputs": [],
   "source": [
    "def train(model,criterion,optimizer,epoch) :\n",
    "    model = model\n",
    "    criterion = criterion\n",
    "    optimizer = optimizer\n",
    "    \n",
    "    for epoch in range(epoch):\n",
    "        running_loss = 0.0\n",
    "        for i, data in enumerate(train_loader, 0):\n",
    "            # get the inputs: data is a list of [inputs, labels]\n",
    "            inputs, labels = data\n",
    "\n",
    "            #zero the parameter gradients\n",
    "            optimizer.zero_grad()\n",
    "\n",
    "            #forward + backward + optimize\n",
    "            outputs = model(inputs)\n",
    "            loss = criterion(outputs, labels)\n",
    "            loss.backward()\n",
    "            optimizer.step()\n",
    "\n",
    "            # print statistics\n",
    "            running_loss += loss.item()\n",
    "            if (i+1) % 2000 == 0:\n",
    "                print(\"[%d, %5d] loss : %.3f\" %\n",
    "                     (epoch+1, i+1, running_loss/2000))\n",
    "                running_loss = 0\n",
    "    return model"
   ]
  },
  {
   "cell_type": "code",
   "execution_count": 6,
   "id": "356e6833",
   "metadata": {},
   "outputs": [
    {
     "name": "stdout",
     "output_type": "stream",
     "text": [
      "Training MLP for MNIST per layer\n",
      "MLP : 5 layers\n",
      "[1,  2000] loss : 2.247\n",
      "[1,  4000] loss : 0.793\n",
      "[2,  2000] loss : 0.334\n",
      "[2,  4000] loss : 0.248\n",
      "[3,  2000] loss : 0.165\n",
      "[3,  4000] loss : 0.152\n",
      "[4,  2000] loss : 0.114\n",
      "[4,  4000] loss : 0.104\n",
      "[5,  2000] loss : 0.077\n",
      "[5,  4000] loss : 0.084\n",
      "[6,  2000] loss : 0.061\n",
      "[6,  4000] loss : 0.060\n",
      "[7,  2000] loss : 0.048\n",
      "[7,  4000] loss : 0.049\n",
      "[8,  2000] loss : 0.039\n",
      "[8,  4000] loss : 0.037\n",
      "[9,  2000] loss : 0.027\n",
      "[9,  4000] loss : 0.033\n",
      "[10,  2000] loss : 0.024\n",
      "[10,  4000] loss : 0.024\n",
      "-------------------------------------------------\n",
      "\n",
      "MLP : 4 layers\n",
      "[1,  2000] loss : 1.512\n",
      "[1,  4000] loss : 0.433\n",
      "[2,  2000] loss : 0.289\n",
      "[2,  4000] loss : 0.242\n",
      "[3,  2000] loss : 0.178\n",
      "[3,  4000] loss : 0.155\n",
      "[4,  2000] loss : 0.127\n",
      "[4,  4000] loss : 0.125\n",
      "[5,  2000] loss : 0.096\n",
      "[5,  4000] loss : 0.098\n",
      "[6,  2000] loss : 0.076\n",
      "[6,  4000] loss : 0.082\n",
      "[7,  2000] loss : 0.063\n",
      "[7,  4000] loss : 0.065\n",
      "[8,  2000] loss : 0.053\n",
      "[8,  4000] loss : 0.057\n",
      "[9,  2000] loss : 0.044\n",
      "[9,  4000] loss : 0.047\n",
      "[10,  2000] loss : 0.039\n",
      "[10,  4000] loss : 0.039\n",
      "-------------------------------------------------\n",
      "\n",
      "MLP : 3 layers\n",
      "[1,  2000] loss : 1.148\n",
      "[1,  4000] loss : 0.398\n",
      "[2,  2000] loss : 0.300\n",
      "[2,  4000] loss : 0.252\n",
      "[3,  2000] loss : 0.208\n",
      "[3,  4000] loss : 0.199\n",
      "[4,  2000] loss : 0.163\n",
      "[4,  4000] loss : 0.155\n",
      "[5,  2000] loss : 0.128\n",
      "[5,  4000] loss : 0.129\n",
      "[6,  2000] loss : 0.108\n",
      "[6,  4000] loss : 0.107\n",
      "[7,  2000] loss : 0.090\n",
      "[7,  4000] loss : 0.095\n",
      "[8,  2000] loss : 0.081\n",
      "[8,  4000] loss : 0.080\n",
      "[9,  2000] loss : 0.074\n",
      "[9,  4000] loss : 0.073\n",
      "[10,  2000] loss : 0.064\n",
      "[10,  4000] loss : 0.061\n",
      "-------------------------------------------------\n",
      "\n",
      "MLP : 2 layers\n",
      "[1,  2000] loss : 0.847\n",
      "[1,  4000] loss : 0.375\n",
      "[2,  2000] loss : 0.309\n",
      "[2,  4000] loss : 0.293\n",
      "[3,  2000] loss : 0.260\n",
      "[3,  4000] loss : 0.237\n",
      "[4,  2000] loss : 0.224\n",
      "[4,  4000] loss : 0.203\n",
      "[5,  2000] loss : 0.189\n",
      "[5,  4000] loss : 0.183\n",
      "[6,  2000] loss : 0.168\n",
      "[6,  4000] loss : 0.164\n",
      "[7,  2000] loss : 0.153\n",
      "[7,  4000] loss : 0.142\n",
      "[8,  2000] loss : 0.137\n",
      "[8,  4000] loss : 0.130\n",
      "[9,  2000] loss : 0.122\n",
      "[9,  4000] loss : 0.123\n",
      "[10,  2000] loss : 0.113\n",
      "[10,  4000] loss : 0.118\n",
      "-------------------------------------------------\n",
      "\n"
     ]
    }
   ],
   "source": [
    "hidden_units = [512,256,128,64]\n",
    "model_list = []\n",
    "\n",
    "print(\"Training MLP for MNIST per layer\")\n",
    "for i in range(len(hidden_units)) :\n",
    "    model = MLP_h(hidden_units = hidden_units[i:])\n",
    "    criterion = nn.CrossEntropyLoss()\n",
    "    optimizer = optim.SGD(model.parameters(), lr=0.01)\n",
    "    print(\"MLP : \" + str(len(hidden_units[i:])+1) + \" layers\")\n",
    "    model_list.append(train(model,criterion,optimizer,10))\n",
    "    print(\"-------------------------------------------------\")\n",
    "    print()"
   ]
  },
  {
   "cell_type": "markdown",
   "id": "e16e1fac",
   "metadata": {},
   "source": [
    "# Test"
   ]
  },
  {
   "cell_type": "code",
   "execution_count": 7,
   "id": "f0e6ad6a",
   "metadata": {},
   "outputs": [
    {
     "name": "stdout",
     "output_type": "stream",
     "text": [
      "Testing MLP for MNIST per layer\n",
      "Accuracy of 5 layer MLP\n",
      "9770/10000\n",
      "Accuracy:  0.977\n",
      "-------------------------------------------------\n",
      "\n",
      "Accuracy of 4 layer MLP\n",
      "9764/10000\n",
      "Accuracy:  0.976\n",
      "-------------------------------------------------\n",
      "\n",
      "Accuracy of 3 layer MLP\n",
      "9736/10000\n",
      "Accuracy:  0.974\n",
      "-------------------------------------------------\n",
      "\n",
      "Accuracy of 2 layer MLP\n",
      "9653/10000\n",
      "Accuracy:  0.965\n",
      "-------------------------------------------------\n",
      "\n"
     ]
    }
   ],
   "source": [
    "print(\"Testing MLP for MNIST per layer\")\n",
    "\n",
    "for i,model in enumerate(model_list) :\n",
    "    print(\"Accuracy of \" + str(5-i) + \" layer MLP\")\n",
    "    n_predict = 0\n",
    "    n_correct = 0\n",
    "\n",
    "    for data in test_loader:\n",
    "        inputs, labels = data\n",
    "        outputs = model(inputs)\n",
    "        _, predicted = torch.max(outputs,1)\n",
    "\n",
    "        n_predict += len(predicted)\n",
    "        n_correct += (labels == predicted).sum()\n",
    "\n",
    "    print(f\"{n_correct}/{n_predict}\")\n",
    "    print(f\"Accuracy: {n_correct/n_predict: .3f}\")\n",
    "    print(\"-------------------------------------------------\")\n",
    "    print()"
   ]
  },
  {
   "cell_type": "markdown",
   "id": "fad615c1",
   "metadata": {},
   "source": [
    "## Visualization"
   ]
  },
  {
   "cell_type": "code",
   "execution_count": 9,
   "id": "7f8b9e42",
   "metadata": {},
   "outputs": [
    {
     "data": {
      "image/png": "[encoded data removed]",
      "text/plain": [
       "<Figure size 432x288 with 1 Axes>"
      ]
     },
     "metadata": {
      "needs_background": "light"
     },
     "output_type": "display_data"
    },
    {
     "data": {
      "text/plain": [
       "<Figure size 432x288 with 0 Axes>"
      ]
     },
     "metadata": {},
     "output_type": "display_data"
    }
   ],
   "source": [
    "# Compute the accuracy of each layer\n",
    "accuracy = []\n",
    "for i,model in enumerate(model_list) :\n",
    "    n_predict = 0\n",
    "    n_correct = 0\n",
    "\n",
    "    for data in test_loader:\n",
    "        inputs, labels = data\n",
    "        outputs = model(inputs)\n",
    "        _, predicted = torch.max(outputs,1)\n",
    "\n",
    "        n_predict += len(predicted)\n",
    "        n_correct += (labels == predicted).sum()\n",
    "\n",
    "    accuracy.append(n_correct/n_predict)\n",
    "\n",
    "# Plot the accuracy of each layer\n",
    "layer = [5,4,3,2]\n",
    "plt.plot(layer,accuracy)\n",
    "plt.xlabel(\"Layer\")\n",
    "plt.ylabel(\"Accuracy\")\n",
    "plt.title(\"Accuracy of MLP for MNIST per layer\")\n",
    "plt.show()\n",
    "plt.savefig(\"accuracy_mlp_mnist.png\")"
   ]
  },
  {
   "cell_type": "code",
   "execution_count": 17,
   "id": "960a22b4",
   "metadata": {},
   "outputs": [],
   "source": [
    "def imshow(img):\n",
    "    npimg = img.numpy()\n",
    "    plt.imshow(np.transpose(npimg,(1,2,0)))\n",
    "    plt.show()"
   ]
  },
  {
   "cell_type": "code",
   "execution_count": 18,
   "id": "42d1dc53",
   "metadata": {},
   "outputs": [
    {
     "data": {
      "image/png": "[encoded data removed]",
      "text/plain": [
       "<Figure size 432x288 with 1 Axes>"
      ]
     },
     "metadata": {
      "needs_background": "light"
     },
     "output_type": "display_data"
    },
    {
     "name": "stdout",
     "output_type": "stream",
     "text": [
      "GroundTruth\n",
      "   7   2   1   0   4   1   4   9   5   9   0   6\n",
      "Prediction\n",
      "   7   2   1   0   4   1   4   9   6   9   0   6\n"
     ]
    }
   ],
   "source": [
    "dataiter = iter(test_loader)\n",
    "images, labels = dataiter.next()\n",
    "\n",
    "imshow(torchvision.utils.make_grid(images, nrow=batch_size))\n",
    "print(\"GroundTruth\")\n",
    "print(\" \"+\" \".join(\"%3s\"%label.item() for label in labels))\n",
    "\n",
    "outputs = model(images)\n",
    "_,predicted = torch.max(outputs,1)\n",
    "print(\"Prediction\")\n",
    "print(\" \"+\" \".join(\"%3s\"%label.item() for label in predicted))"
   ]
  },
  {
   "cell_type": "code",
   "execution_count": null,
   "id": "ec5153ec",
   "metadata": {},
   "outputs": [],
   "source": []
  }
 ],
 "metadata": {
  "interpreter": {
   "hash": "99e55bba2bfd190bfffb28d55de7b9b9d0506f838e465f2cacf9c84476e1bc53"
  },
  "kernelspec": {
   "display_name": "Python 3",
   "language": "python",
   "name": "python3"
  },
  "language_info": {
   "codemirror_mode": {
    "name": "ipython",
    "version": 3
   },
   "file_extension": ".py",
   "mimetype": "text/x-python",
   "name": "python",
   "nbconvert_exporter": "python",
   "pygments_lexer": "ipython3",
   "version": "3.9.6"
  }
 },
 "nbformat": 4,
 "nbformat_minor": 5
}
