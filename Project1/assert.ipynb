{
 "cells": [
  {
   "cell_type": "code",
   "execution_count": 1,
   "metadata": {},
   "outputs": [],
   "source": [
    "from model import *\n",
    "import torch \n",
    "from torchsummary import summary"
   ]
  },
  {
   "cell_type": "code",
   "execution_count": 2,
   "metadata": {},
   "outputs": [
    {
     "name": "stdout",
     "output_type": "stream",
     "text": [
      "cpu\n"
     ]
    }
   ],
   "source": [
    "device = torch.device(\"cuda:0\" if torch.cuda.is_available() else \"cpu\")\n",
    "print(device)"
   ]
  },
  {
   "cell_type": "code",
   "execution_count": 3,
   "metadata": {},
   "outputs": [],
   "source": [
    "# model = ResNet18(BasicBlock, [1,1,1,1]).cpu()\n",
    "# x = torch.randn(1,3,28,28).to(device)\n",
    "model = RobustModel().cpu()"
   ]
  },
  {
   "cell_type": "code",
   "execution_count": 4,
   "metadata": {},
   "outputs": [
    {
     "name": "stdout",
     "output_type": "stream",
     "text": [
      "----------------------------------------------------------------\n",
      "        Layer (type)               Output Shape         Param #\n",
      "================================================================\n",
      "            Conv2d-1           [-1, 16, 26, 26]             448\n",
      "              ReLU-2           [-1, 16, 26, 26]               0\n",
      "         MaxPool2d-3           [-1, 16, 13, 13]               0\n",
      "            Conv2d-4             [-1, 32, 9, 9]          12,832\n",
      "              ReLU-5             [-1, 32, 9, 9]               0\n",
      "         MaxPool2d-6             [-1, 32, 4, 4]               0\n",
      "            Linear-7                  [-1, 120]          61,560\n",
      "            Linear-8                  [-1, 120]          61,560\n",
      "              ReLU-9                  [-1, 120]               0\n",
      "          Dropout-10                  [-1, 120]               0\n",
      "           Linear-11                   [-1, 80]           9,680\n",
      "           Linear-12                   [-1, 80]           9,680\n",
      "             ReLU-13                   [-1, 80]               0\n",
      "          Dropout-14                   [-1, 80]               0\n",
      "           Linear-15                   [-1, 10]             810\n",
      "================================================================\n",
      "Total params: 156,570\n",
      "Trainable params: 156,570\n",
      "Non-trainable params: 0\n",
      "----------------------------------------------------------------\n",
      "Input size (MB): 0.01\n",
      "Forward/backward pass size (MB): 0.24\n",
      "Params size (MB): 0.60\n",
      "Estimated Total Size (MB): 0.84\n",
      "----------------------------------------------------------------\n"
     ]
    }
   ],
   "source": [
    "summary(model, input_size=(3,28,28),device='cpu')"
   ]
  },
  {
   "cell_type": "code",
   "execution_count": 5,
   "metadata": {},
   "outputs": [],
   "source": [
    "# save model \n",
    "torch.save(model.state_dict(), './model.pt')"
   ]
  },
  {
   "cell_type": "code",
   "execution_count": null,
   "metadata": {},
   "outputs": [],
   "source": []
  }
 ],
 "metadata": {
  "interpreter": {
   "hash": "d13b70800d133871988f5f4b3dbd73448f5f8fee0da9fb15fef49a4fe031f81d"
  },
  "kernelspec": {
   "display_name": "Python 3.9.6 ('ai21')",
   "language": "python",
   "name": "python3"
  },
  "language_info": {
   "codemirror_mode": {
    "name": "ipython",
    "version": 3
   },
   "file_extension": ".py",
   "mimetype": "text/x-python",
   "name": "python",
   "nbconvert_exporter": "python",
   "pygments_lexer": "ipython3",
   "version": "3.7.11"
  },
  "orig_nbformat": 4
 },
 "nbformat": 4,
 "nbformat_minor": 2
}
