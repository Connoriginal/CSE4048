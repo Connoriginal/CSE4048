{
 "cells": [
  {
   "cell_type": "code",
   "execution_count": 1,
   "metadata": {},
   "outputs": [],
   "source": [
    "from model import *\n",
    "import torch \n",
    "from torchsummary import summary"
   ]
  },
  {
   "cell_type": "code",
   "execution_count": 2,
   "metadata": {},
   "outputs": [
    {
     "name": "stdout",
     "output_type": "stream",
     "text": [
      "cpu\n"
     ]
    }
   ],
   "source": [
    "device = torch.device(\"cuda:0\" if torch.cuda.is_available() else \"cpu\")\n",
    "print(device)"
   ]
  },
  {
   "cell_type": "code",
   "execution_count": 3,
   "metadata": {},
   "outputs": [],
   "source": [
    "model = ResNet18(BasicBlock, [1,1,1,1]).cpu()\n",
    "# x = torch.randn(1,3,28,28).to(device)\n",
    "# model = RobustModel().cpu()"
   ]
  },
  {
   "cell_type": "code",
   "execution_count": 4,
   "metadata": {},
   "outputs": [
    {
     "name": "stdout",
     "output_type": "stream",
     "text": [
      "----------------------------------------------------------------\n",
      "        Layer (type)               Output Shape         Param #\n",
      "================================================================\n",
      "            Conv2d-1           [-1, 64, 28, 28]           1,728\n",
      "       BatchNorm2d-2           [-1, 64, 28, 28]             128\n",
      "              ReLU-3           [-1, 64, 28, 28]               0\n",
      "            Conv2d-4           [-1, 64, 28, 28]          36,864\n",
      "       BatchNorm2d-5           [-1, 64, 28, 28]             128\n",
      "              ReLU-6           [-1, 64, 28, 28]               0\n",
      "            Conv2d-7           [-1, 64, 28, 28]          36,864\n",
      "       BatchNorm2d-8           [-1, 64, 28, 28]             128\n",
      "              ReLU-9           [-1, 64, 28, 28]               0\n",
      "       BasicBlock-10           [-1, 64, 28, 28]               0\n",
      "           Conv2d-11          [-1, 128, 14, 14]          73,728\n",
      "      BatchNorm2d-12          [-1, 128, 14, 14]             256\n",
      "             ReLU-13          [-1, 128, 14, 14]               0\n",
      "           Conv2d-14          [-1, 128, 14, 14]         147,456\n",
      "      BatchNorm2d-15          [-1, 128, 14, 14]             256\n",
      "           Conv2d-16          [-1, 128, 14, 14]           8,192\n",
      "      BatchNorm2d-17          [-1, 128, 14, 14]             256\n",
      "             ReLU-18          [-1, 128, 14, 14]               0\n",
      "       BasicBlock-19          [-1, 128, 14, 14]               0\n",
      "           Conv2d-20            [-1, 256, 7, 7]         294,912\n",
      "      BatchNorm2d-21            [-1, 256, 7, 7]             512\n",
      "             ReLU-22            [-1, 256, 7, 7]               0\n",
      "           Conv2d-23            [-1, 256, 7, 7]         589,824\n",
      "      BatchNorm2d-24            [-1, 256, 7, 7]             512\n",
      "           Conv2d-25            [-1, 256, 7, 7]          32,768\n",
      "      BatchNorm2d-26            [-1, 256, 7, 7]             512\n",
      "             ReLU-27            [-1, 256, 7, 7]               0\n",
      "       BasicBlock-28            [-1, 256, 7, 7]               0\n",
      "AdaptiveAvgPool2d-29            [-1, 256, 1, 1]               0\n",
      "           Linear-30                   [-1, 10]           2,570\n",
      "================================================================\n",
      "Total params: 1,227,594\n",
      "Trainable params: 1,227,594\n",
      "Non-trainable params: 0\n",
      "----------------------------------------------------------------\n",
      "Input size (MB): 0.01\n",
      "Forward/backward pass size (MB): 6.41\n",
      "Params size (MB): 4.68\n",
      "Estimated Total Size (MB): 11.11\n",
      "----------------------------------------------------------------\n"
     ]
    }
   ],
   "source": [
    "summary(model, input_size=(3,28,28),device='cpu')"
   ]
  },
  {
   "cell_type": "code",
   "execution_count": 5,
   "metadata": {},
   "outputs": [],
   "source": [
    "# save model \n",
    "torch.save(model.state_dict(), './model.pt')"
   ]
  },
  {
   "cell_type": "code",
   "execution_count": null,
   "metadata": {},
   "outputs": [],
   "source": []
  }
 ],
 "metadata": {
  "interpreter": {
   "hash": "99e55bba2bfd190bfffb28d55de7b9b9d0506f838e465f2cacf9c84476e1bc53"
  },
  "kernelspec": {
   "display_name": "Python 3.7.11 ('DL')",
   "language": "python",
   "name": "python3"
  },
  "language_info": {
   "codemirror_mode": {
    "name": "ipython",
    "version": 3
   },
   "file_extension": ".py",
   "mimetype": "text/x-python",
   "name": "python",
   "nbconvert_exporter": "python",
   "pygments_lexer": "ipython3",
   "version": "3.7.11"
  },
  "orig_nbformat": 4
 },
 "nbformat": 4,
 "nbformat_minor": 2
}
