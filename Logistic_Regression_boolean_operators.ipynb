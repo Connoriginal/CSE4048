{
 "cells": [
  {
   "cell_type": "markdown",
   "id": "4e2a6780",
   "metadata": {},
   "source": [
    "# Logistic Regression : boolean operators\n",
    "\n",
    "* Training logistic regression models for Boolean operators\n",
    "* Requirements\n",
    "    - AND, OR, XOR\n",
    "        * you need to build a dataset for each operater\n",
    "        * may not working for an operator\n",
    "    - Use numpy arrays\n",
    "        * Initialization with lists : x, y\n",
    "        * Random initialization : w,b\n",
    "    - Use numpy operator\n",
    "        * inner product\n",
    "        * Addition"
   ]
  },
  {
   "cell_type": "code",
   "execution_count": 1,
   "id": "91eaf102",
   "metadata": {},
   "outputs": [],
   "source": [
    "import numpy as np\n",
    "import matplotlib.pyplot as plt\n",
    "%matplotlib inline"
   ]
  },
  {
   "cell_type": "markdown",
   "id": "039dcb2e",
   "metadata": {},
   "source": [
    "## Data Prepration"
   ]
  },
  {
   "cell_type": "code",
   "execution_count": 2,
   "id": "6664d656",
   "metadata": {},
   "outputs": [],
   "source": [
    "X = np.array([(0,0),(0,1),(1,0),(1,1)])\n",
    "Y_AND = np.array([0,0,0,1])\n",
    "Y_OR = np.array([0,1,1,1])\n",
    "Y_XOR = np.array([0,1,1,0])"
   ]
  },
  {
   "cell_type": "markdown",
   "id": "ca0f5dd5",
   "metadata": {},
   "source": [
    "## Model & Train"
   ]
  },
  {
   "cell_type": "code",
   "execution_count": 3,
   "id": "97919daf",
   "metadata": {},
   "outputs": [],
   "source": [
    "class logistic_regression_model() :\n",
    "    def __init__(self) :\n",
    "        self.w = np.random.normal(size=2)\n",
    "        self.b = np.random.normal(size=1)\n",
    "    \n",
    "    def sigmoid(self,z):\n",
    "        s = 1 / (1 + np.exp(-z))\n",
    "        return s\n",
    "    \n",
    "    def predict(self,x):\n",
    "        z = np.inner(self.w,x) + self.b\n",
    "        a = self.sigmoid(z)\n",
    "        return a"
   ]
  },
  {
   "cell_type": "code",
   "execution_count": 4,
   "id": "c77cf6b4",
   "metadata": {},
   "outputs": [],
   "source": [
    "def train(X,Y,model,lr=0.01, epoch = 10000, print_progess = False):\n",
    "    \n",
    "    # Output array of costs\n",
    "    costs = []\n",
    "    \n",
    "    # Train for epoch times\n",
    "    for ep in range(epoch) :\n",
    "        \n",
    "        # One step of training\n",
    "        dw = np.array([0.0,0.0])\n",
    "        db = np.array([0.0])\n",
    "        m = len(X)\n",
    "        cost = np.array([0.0])\n",
    "\n",
    "        for x,y in zip(X,Y):\n",
    "            a = model.predict(x)\n",
    "            if y == 1:\n",
    "                cost -= np.log(a)\n",
    "            else :\n",
    "                cost -= np.log(1-a)\n",
    "\n",
    "            dw += (a-y)*x\n",
    "            db += (a-y)\n",
    "\n",
    "        cost /= m\n",
    "        model.w -= lr*dw/m\n",
    "        model.b -= lr*db/m\n",
    "        \n",
    "        # Print progress(cost) if true\n",
    "        if print_progess :\n",
    "            if ep % 100 == 0:\n",
    "                print(\"epoch : \" + str(epoch) +\", cost : \" + str(cost))\n",
    "                \n",
    "        # Add cost to output array\n",
    "        costs.append(cost)\n",
    "        \n",
    "    return costs"
   ]
  },
  {
   "cell_type": "markdown",
   "id": "213ef833",
   "metadata": {},
   "source": [
    "## Prepration of Results"
   ]
  },
  {
   "cell_type": "code",
   "execution_count": 5,
   "id": "b5cd3847",
   "metadata": {},
   "outputs": [],
   "source": [
    "learning_rate = [0.1,0.01,0.001]\n",
    "costs_AND = []\n",
    "costs_OR = []\n",
    "costs_XOR = []\n",
    "\n",
    "def prediction_of_model(model) :\n",
    "    print(\"pridiction of (0,0) : \" + str(model.predict((0,0))))\n",
    "    print(\"pridiction of (0,1) : \" + str(model.predict((0,1))))\n",
    "    print(\"pridiction of (1,0) : \" + str(model.predict((1,0))))\n",
    "    print(\"pridiction of (1,1) : \" + str(model.predict((1,1))))"
   ]
  },
  {
   "cell_type": "markdown",
   "id": "ac50bb9a",
   "metadata": {},
   "source": [
    "## Results"
   ]
  },
  {
   "cell_type": "code",
   "execution_count": 6,
   "id": "3567145c",
   "metadata": {
    "scrolled": false
   },
   "outputs": [
    {
     "name": "stdout",
     "output_type": "stream",
     "text": [
      "========== Learning rate : 0.1 ==========\n",
      "---------- AND model prediction ----------\n",
      "pridiction of (0,0) : [1.26673287e-05]\n",
      "pridiction of (0,1) : [0.02035403]\n",
      "pridiction of (1,0) : [0.02035402]\n",
      "pridiction of (1,1) : [0.97149196]\n",
      "---------- OR model prediction ----------\n",
      "pridiction of (0,0) : [0.02068813]\n",
      "pridiction of (0,1) : [0.99173717]\n",
      "pridiction of (1,0) : [0.99173774]\n",
      "pridiction of (1,1) : [0.99999853]\n",
      "---------- XOR model prediction ----------\n",
      "pridiction of (0,0) : [0.5]\n",
      "pridiction of (0,1) : [0.5]\n",
      "pridiction of (1,0) : [0.5]\n",
      "pridiction of (1,1) : [0.5]\n",
      "\n",
      "========== Learning rate : 0.01 ==========\n",
      "---------- AND model prediction ----------\n",
      "pridiction of (0,0) : [0.00848955]\n",
      "pridiction of (0,1) : [0.15367303]\n",
      "pridiction of (1,0) : [0.14706681]\n",
      "pridiction of (1,1) : [0.78524875]\n",
      "---------- OR model prediction ----------\n",
      "pridiction of (0,0) : [0.18078035]\n",
      "pridiction of (0,1) : [0.92587761]\n",
      "pridiction of (1,0) : [0.93367711]\n",
      "pridiction of (1,1) : [0.99874666]\n",
      "---------- XOR model prediction ----------\n",
      "pridiction of (0,0) : [0.49838883]\n",
      "pridiction of (0,1) : [0.49975368]\n",
      "pridiction of (1,0) : [0.49974063]\n",
      "pridiction of (1,1) : [0.50110549]\n",
      "\n",
      "========== Learning rate : 0.001 ==========\n",
      "---------- AND model prediction ----------\n",
      "pridiction of (0,0) : [0.21676634]\n",
      "pridiction of (0,1) : [0.30287778]\n",
      "pridiction of (1,0) : [0.35590633]\n",
      "pridiction of (1,1) : [0.46451055]\n",
      "---------- OR model prediction ----------\n",
      "pridiction of (0,0) : [0.62968057]\n",
      "pridiction of (0,1) : [0.72212619]\n",
      "pridiction of (1,0) : [0.89327115]\n",
      "pridiction of (1,1) : [0.92749183]\n",
      "---------- XOR model prediction ----------\n",
      "pridiction of (0,0) : [0.43291983]\n",
      "pridiction of (0,1) : [0.50660779]\n",
      "pridiction of (1,0) : [0.47165945]\n",
      "pridiction of (1,1) : [0.54559721]\n",
      "\n"
     ]
    }
   ],
   "source": [
    "for lr in learning_rate :\n",
    "    # learning rate 마다 model을 초기값으로 두기 위해\n",
    "    AND_model = logistic_regression_model()\n",
    "    OR_model = logistic_regression_model()\n",
    "    XOR_model = logistic_regression_model()\n",
    "    \n",
    "    # 결과값 출력\n",
    "    print(\"========== Learning rate : \" + str(lr) + \" ==========\")\n",
    "    \n",
    "    cost_AND = train(X,Y_AND,AND_model,lr,10000,False)\n",
    "    costs_AND.append(cost_AND)\n",
    "    print(\"---------- AND model prediction ----------\")\n",
    "    prediction_of_model(AND_model)\n",
    "    \n",
    "    cost_OR = train(X,Y_OR,OR_model,lr,10000,False)\n",
    "    print(\"---------- OR model prediction ----------\")\n",
    "    prediction_of_model(OR_model)\n",
    "    costs_OR.append(cost_OR)\n",
    "    \n",
    "    cost_XOR = train(X,Y_XOR,XOR_model,lr,10000,False)\n",
    "    \n",
    "    print(\"---------- XOR model prediction ----------\")\n",
    "    prediction_of_model(XOR_model)\n",
    "    costs_XOR.append(cost_XOR)\n",
    "    print()"
   ]
  },
  {
   "cell_type": "markdown",
   "id": "ad1f51ca",
   "metadata": {},
   "source": [
    "## 그래프로 나타낸 결과값"
   ]
  },
  {
   "cell_type": "code",
   "execution_count": 7,
   "id": "229ee88d",
   "metadata": {
    "scrolled": true
   },
   "outputs": [
    {
     "data": {
      "image/png": "[encoded data removed]",
      "text/plain": [
       "<Figure size 432x288 with 1 Axes>"
      ]
     },
     "metadata": {
      "needs_background": "light"
     },
     "output_type": "display_data"
    }
   ],
   "source": [
    "plt.plot(costs_AND[0])\n",
    "plt.plot(costs_AND[1])\n",
    "plt.plot(costs_AND[2])\n",
    "plt.legend([\"0.1\",\"0.01\",\"0.001\"])\n",
    "\n",
    "plt.ylabel('cost')\n",
    "plt.xlabel('epoch(per hundreds)')\n",
    "plt.title(\"AND_MODEL Cost plot(loss)\")\n",
    "plt.show()"
   ]
  },
  {
   "cell_type": "code",
   "execution_count": 8,
   "id": "f0afb061",
   "metadata": {},
   "outputs": [
    {
     "data": {
      "image/png": "[encoded data removed]",
      "text/plain": [
       "<Figure size 432x288 with 1 Axes>"
      ]
     },
     "metadata": {
      "needs_background": "light"
     },
     "output_type": "display_data"
    }
   ],
   "source": [
    "plt.plot(costs_OR[0])\n",
    "plt.plot(costs_OR[1])\n",
    "plt.plot(costs_OR[2])\n",
    "plt.legend([\"0.1\",\"0.01\",\"0.001\"])\n",
    "plt.ylabel('cost')\n",
    "plt.xlabel('epoch(per hundreds)')\n",
    "plt.title(\"OR_MODEL Cost plot(loss)\")\n",
    "plt.show()"
   ]
  },
  {
   "cell_type": "code",
   "execution_count": 9,
   "id": "79787105",
   "metadata": {},
   "outputs": [
    {
     "data": {
      "image/png": "[encoded data removed]",
      "text/plain": [
       "<Figure size 432x288 with 1 Axes>"
      ]
     },
     "metadata": {
      "needs_background": "light"
     },
     "output_type": "display_data"
    }
   ],
   "source": [
    "plt.plot(costs_XOR[0])\n",
    "plt.plot(costs_XOR[1])\n",
    "plt.plot(costs_XOR[2])\n",
    "plt.legend([\"0.1\",\"0.01\",\"0.001\"])\n",
    "plt.ylabel('cost')\n",
    "plt.xlabel('epoch(per hundreds)')\n",
    "plt.title(\"XOR_MODEL Cost plot(loss)\")\n",
    "plt.show()"
   ]
  },
  {
   "cell_type": "code",
   "execution_count": null,
   "id": "46b55d42",
   "metadata": {},
   "outputs": [],
   "source": []
  }
 ],
 "metadata": {
  "kernelspec": {
   "display_name": "Python 3",
   "language": "python",
   "name": "python3"
  },
  "language_info": {
   "codemirror_mode": {
    "name": "ipython",
    "version": 3
   },
   "file_extension": ".py",
   "mimetype": "text/x-python",
   "name": "python",
   "nbconvert_exporter": "python",
   "pygments_lexer": "ipython3",
   "version": "3.9.6"
  }
 },
 "nbformat": 4,
 "nbformat_minor": 5
}
