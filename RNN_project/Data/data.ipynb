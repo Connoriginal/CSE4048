{
 "cells": [
  {
   "cell_type": "code",
   "execution_count": 33,
   "metadata": {},
   "outputs": [],
   "source": [
    "import numpy as np\n",
    "import torch\n",
    "import pandas as pd"
   ]
  },
  {
   "cell_type": "code",
   "execution_count": 34,
   "metadata": {},
   "outputs": [],
   "source": [
    "df = pd.read_csv('train.csv')\n",
    "df_t = pd.read_csv('test.csv')"
   ]
  },
  {
   "cell_type": "code",
   "execution_count": 35,
   "metadata": {},
   "outputs": [
    {
     "name": "stdout",
     "output_type": "stream",
     "text": [
      "(150000,)\n",
      "(100,)\n"
     ]
    }
   ],
   "source": [
    "sentences = df['text'].values\n",
    "labels = df['label'].values\n",
    "\n",
    "test_sen = df_t['text'].values\n",
    "test_labels = df_t['label'].values\n",
    "\n",
    "print(sentences.shape)\n",
    "print(test_sen.shape)"
   ]
  },
  {
   "cell_type": "code",
   "execution_count": 36,
   "metadata": {},
   "outputs": [
    {
     "name": "stdout",
     "output_type": "stream",
     "text": [
      "Counter({'education': 42721, 'ICT': 37464, 'mechanics': 37042, 'economy': 32773})\n",
      "Counter({'economy': 29, 'ICT': 25, 'mechanics': 24, 'education': 22})\n"
     ]
    }
   ],
   "source": [
    "# count labels and frequencies\n",
    "from collections import Counter\n",
    "counts = Counter(labels)\n",
    "print(counts)\n",
    "count2 = Counter(test_labels)\n",
    "print(count2)"
   ]
  },
  {
   "cell_type": "code",
   "execution_count": 41,
   "metadata": {},
   "outputs": [],
   "source": [
    "total_len = len(sentences)\n",
    "train_len = int(total_len * 0.9)\n",
    "test_len = total_len - train_len\n",
    "\n",
    "# random split data\n",
    "np.random.seed(0)\n",
    "indices = np.random.permutation(len(sentences))\n",
    "train_size = int(len(sentences) * 0.9)\n",
    "train_indices = indices[:train_size]\n",
    "test_indices = indices[train_size:]"
   ]
  },
  {
   "cell_type": "code",
   "execution_count": 42,
   "metadata": {},
   "outputs": [],
   "source": [
    "ptrain_sentences = sentences[:train_len]\n",
    "ptrain_labels = labels[:train_len]\n",
    "\n",
    "pvalid_sentences = sentences[train_len:]\n",
    "pvalid_labels = labels[train_len:]\n",
    "\n",
    "train_sentences = sentences[train_indices]\n",
    "train_labels = labels[train_indices]\n",
    "valid_sentences = sentences[test_indices]\n",
    "valid_labels = labels[test_indices]\n"
   ]
  },
  {
   "cell_type": "code",
   "execution_count": 43,
   "metadata": {},
   "outputs": [
    {
     "name": "stdout",
     "output_type": "stream",
     "text": [
      "Counter({'education': 38423, 'ICT': 33760, 'mechanics': 33346, 'economy': 29471})\n",
      "Counter({'education': 4298, 'ICT': 3704, 'mechanics': 3696, 'economy': 3302})\n",
      "Counter({'education': 38369, 'ICT': 33752, 'mechanics': 33392, 'economy': 29487})\n",
      "Counter({'education': 4352, 'ICT': 3712, 'mechanics': 3650, 'economy': 3286})\n"
     ]
    }
   ],
   "source": [
    "counts = Counter(train_labels)\n",
    "print(counts)\n",
    "count2 = Counter(valid_labels)\n",
    "print(count2)\n",
    "\n",
    "count3 = Counter(ptrain_labels)\n",
    "print(count3)\n",
    "count4 = Counter(pvalid_labels)\n",
    "print(count4)"
   ]
  },
  {
   "cell_type": "code",
   "execution_count": 31,
   "metadata": {},
   "outputs": [],
   "source": [
    "df_train = pd.DataFrame({'text': train_sentences, 'label': train_labels})\n",
    "df_valid = pd.DataFrame({'text': valid_sentences, 'label': valid_labels})\n"
   ]
  },
  {
   "cell_type": "code",
   "execution_count": 32,
   "metadata": {},
   "outputs": [],
   "source": [
    "# #save to csv\n",
    "# df_train.to_csv('train_split.csv', index=False)\n",
    "# df_valid.to_csv('valid_split.csv', index=False)"
   ]
  },
  {
   "cell_type": "code",
   "execution_count": 10,
   "metadata": {},
   "outputs": [
    {
     "name": "stderr",
     "output_type": "stream",
     "text": [
      "[nltk_data] Downloading package punkt to\n",
      "[nltk_data]     /Users/kwontaeyoon/nltk_data...\n",
      "[nltk_data]   Unzipping tokenizers/punkt.zip.\n"
     ]
    },
    {
     "data": {
      "text/plain": [
       "True"
      ]
     },
     "execution_count": 10,
     "metadata": {},
     "output_type": "execute_result"
    }
   ],
   "source": [
    "import nltk\n",
    "nltk.download('punkt')"
   ]
  },
  {
   "cell_type": "code",
   "execution_count": null,
   "metadata": {},
   "outputs": [],
   "source": []
  }
 ],
 "metadata": {
  "kernelspec": {
   "display_name": "DL",
   "language": "python",
   "name": "dl"
  },
  "language_info": {
   "codemirror_mode": {
    "name": "ipython",
    "version": 3
   },
   "file_extension": ".py",
   "mimetype": "text/x-python",
   "name": "python",
   "nbconvert_exporter": "python",
   "pygments_lexer": "ipython3",
   "version": "3.7.11"
  },
  "orig_nbformat": 4
 },
 "nbformat": 4,
 "nbformat_minor": 2
}
