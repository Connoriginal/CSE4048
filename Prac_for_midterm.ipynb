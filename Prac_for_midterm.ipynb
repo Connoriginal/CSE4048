{
 "cells": [
  {
   "cell_type": "code",
   "execution_count": 22,
   "id": "7f893422",
   "metadata": {},
   "outputs": [],
   "source": [
    "import torch\n",
    "import numpy as np\n",
    "import matplotlib.pyplot as plt"
   ]
  },
  {
   "cell_type": "code",
   "execution_count": 9,
   "id": "14db7ad5",
   "metadata": {},
   "outputs": [],
   "source": [
    "w = torch.Tensor([[1,2]])\n",
    "x = torch.Tensor([[3,4]])\n",
    "b = torch.Tensor([5])"
   ]
  },
  {
   "cell_type": "code",
   "execution_count": 10,
   "id": "99545b02",
   "metadata": {},
   "outputs": [
    {
     "name": "stdout",
     "output_type": "stream",
     "text": [
      "tensor([[1., 2.]]) tensor([[3., 4.]]) tensor([5.])\n"
     ]
    }
   ],
   "source": [
    "print(w,x,b)"
   ]
  },
  {
   "cell_type": "code",
   "execution_count": 11,
   "id": "8bfb3470",
   "metadata": {},
   "outputs": [
    {
     "name": "stdout",
     "output_type": "stream",
     "text": [
      "tensor([[1.],\n",
      "        [2.]])\n"
     ]
    }
   ],
   "source": [
    "print(w.T)"
   ]
  },
  {
   "cell_type": "code",
   "execution_count": 12,
   "id": "c4126338",
   "metadata": {},
   "outputs": [
    {
     "name": "stdout",
     "output_type": "stream",
     "text": [
      "tensor([[3., 4.],\n",
      "        [6., 8.]])\n"
     ]
    }
   ],
   "source": [
    "print(torch.matmul(w.T,x))"
   ]
  },
  {
   "cell_type": "code",
   "execution_count": 13,
   "id": "de127ca2",
   "metadata": {},
   "outputs": [
    {
     "ename": "RuntimeError",
     "evalue": "1D tensors expected, but got 2D and 2D tensors",
     "output_type": "error",
     "traceback": [
      "\u001b[0;31m---------------------------------------------------------------------------\u001b[0m",
      "\u001b[0;31mRuntimeError\u001b[0m                              Traceback (most recent call last)",
      "\u001b[0;32m/var/folders/k6/m9tg9pk53qx5dc10_wkhzm500000gn/T/ipykernel_8239/94191324.py\u001b[0m in \u001b[0;36m<module>\u001b[0;34m\u001b[0m\n\u001b[0;32m----> 1\u001b[0;31m \u001b[0mprint\u001b[0m\u001b[0;34m(\u001b[0m\u001b[0mtorch\u001b[0m\u001b[0;34m.\u001b[0m\u001b[0mdot\u001b[0m\u001b[0;34m(\u001b[0m\u001b[0mw\u001b[0m\u001b[0;34m.\u001b[0m\u001b[0mT\u001b[0m\u001b[0;34m,\u001b[0m\u001b[0mx\u001b[0m\u001b[0;34m)\u001b[0m\u001b[0;34m)\u001b[0m\u001b[0;34m\u001b[0m\u001b[0;34m\u001b[0m\u001b[0m\n\u001b[0m",
      "\u001b[0;31mRuntimeError\u001b[0m: 1D tensors expected, but got 2D and 2D tensors"
     ]
    }
   ],
   "source": [
    "print(torch.dot(w.T,x))"
   ]
  },
  {
   "cell_type": "code",
   "execution_count": 14,
   "id": "7df6b90c",
   "metadata": {},
   "outputs": [
    {
     "name": "stdout",
     "output_type": "stream",
     "text": [
      "tensor([1., 2.]) tensor([3., 4.]) tensor([5.])\n"
     ]
    }
   ],
   "source": [
    "w = torch.Tensor([1,2])\n",
    "x = torch.Tensor([3,4])\n",
    "b = torch.Tensor([5])\n",
    "print(w,x,b)"
   ]
  },
  {
   "cell_type": "code",
   "execution_count": 16,
   "id": "f76c0262",
   "metadata": {},
   "outputs": [
    {
     "name": "stdout",
     "output_type": "stream",
     "text": [
      "tensor(11.)\n",
      "tensor(11.)\n"
     ]
    }
   ],
   "source": [
    "print(torch.dot(w.T,x))\n",
    "print(torch.dot(w,x))"
   ]
  },
  {
   "cell_type": "markdown",
   "id": "4efd1030",
   "metadata": {},
   "source": [
    "# Shallow NN by numpy"
   ]
  },
  {
   "cell_type": "code",
   "execution_count": 20,
   "id": "b8900984",
   "metadata": {},
   "outputs": [
    {
     "name": "stdout",
     "output_type": "stream",
     "text": [
      "x_seeds dim : (4, 2), y_seeds dim : (4,)\n",
      "idxs shape : (1000,)\n",
      "\n",
      "X shape : (1000, 2) , Y shape : (1000,)\n",
      "X is\n",
      "[[ 0.29222544  1.26488714]\n",
      " [ 0.83117819 -0.04895855]\n",
      " [ 0.58673709  1.21061902]\n",
      " ...\n",
      " [ 0.11048029 -0.05182768]\n",
      " [ 1.2576519   0.78626149]\n",
      " [ 0.6788475   1.45636212]]\n",
      "Y is\n",
      "[1 1 0 1 0 0 0 0 0 0 0 1 1 1 0 1 1 0 0 0 1 1 1 1 0 0 0 1 1 0 1 1 0 0 0 0 0\n",
      " 0 0 1 1 1 1 0 1 0 1 0 0 0 0 1 0 0 0 1 1 0 0 1 1 0 0 0 1 0 0 0 1 1 0 1 0 0\n",
      " 1 0 0 1 1 1 0 0 0 0 1 1 0 0 1 1 0 0 0 0 1 1 1 1 1 0 0 1 1 1 1 1 0 0 0 1 0\n",
      " 1 0 0 1 0 0 0 0 0 0 1 1 1 0 1 1 0 0 0 1 1 1 1 1 1 1 1 0 1 0 1 0 0 1 0 1 0\n",
      " 1 1 1 0 0 1 1 1 0 0 0 0 0 1 1 0 0 0 1 0 0 1 1 0 0 0 0 1 1 0 1 1 0 1 1 1 0\n",
      " 1 1 0 1 1 0 0 1 0 0 1 0 0 0 0 1 0 0 1 0 1 0 0 0 0 1 0 1 0 1 1 0 1 1 0 1 1\n",
      " 1 0 0 0 1 1 1 0 1 0 0 0 1 1 0 1 1 0 1 0 0 1 1 0 1 0 1 0 1 1 1 1 0 1 0 1 1\n",
      " 1 0 0 1 0 0 1 0 1 1 1 0 0 1 0 1 1 0 0 0 1 1 1 1 1 0 0 1 1 1 0 1 1 1 0 0 0\n",
      " 0 1 1 0 0 0 0 1 0 0 0 0 1 1 0 1 0 0 0 0 1 1 0 0 1 0 0 1 1 0 1 0 1 0 0 0 1\n",
      " 1 0 1 1 1 0 1 1 0 1 1 0 1 1 1 1 0 1 1 0 0 0 0 1 1 1 1 0 1 1 1 1 0 1 1 1 1\n",
      " 0 0 0 1 0 1 1 0 1 0 1 0 1 1 0 0 1 1 1 1 1 1 1 0 0 1 0 1 0 1 1 0 1 1 0 0 1\n",
      " 1 1 1 1 1 0 0 1 0 1 0 1 1 1 1 0 1 0 0 1 1 0 1 0 1 1 1 1 1 0 0 0 0 1 1 1 1\n",
      " 1 1 1 0 0 1 1 0 0 0 0 1 0 1 0 1 1 1 0 0 1 1 0 1 1 1 0 1 0 1 0 0 1 0 0 0 1\n",
      " 1 0 1 0 1 1 1 0 0 0 1 0 1 0 0 1 0 0 1 1 1 0 1 1 0 0 0 1 0 0 1 0 0 0 0 1 1\n",
      " 0 0 0 0 1 0 0 1 0 1 0 0 1 1 0 1 0 0 0 0 0 1 0 1 0 1 1 0 0 1 1 1 0 0 1 0 1\n",
      " 0 1 0 1 1 0 1 1 1 1 1 0 0 0 1 1 1 0 1 0 0 1 1 1 1 0 0 0 1 0 0 0 0 0 0 0 1\n",
      " 0 0 0 0 1 0 1 1 1 1 0 0 1 1 0 1 1 1 1 1 1 0 0 0 1 1 1 0 1 0 0 0 1 1 0 1 0\n",
      " 0 0 1 1 0 1 1 0 1 1 0 0 1 1 0 1 0 1 0 0 1 0 1 0 0 1 1 1 0 1 1 1 1 0 1 1 0\n",
      " 0 0 0 1 1 1 0 1 1 1 1 1 0 1 0 1 1 1 1 0 1 0 1 0 1 0 0 1 0 1 0 0 1 0 0 1 0\n",
      " 1 0 1 0 0 0 0 0 0 1 1 0 1 0 0 1 0 1 0 1 0 1 1 1 0 0 1 0 0 0 0 0 1 0 0 0 0\n",
      " 0 0 0 0 0 1 1 0 1 0 1 1 1 0 0 0 0 0 0 0 1 0 1 0 1 0 1 0 1 0 0 1 0 0 1 0 0\n",
      " 1 1 0 1 1 1 0 1 1 0 1 0 0 0 1 0 1 0 1 0 0 1 0 1 1 1 0 0 1 0 1 1 1 0 0 0 0\n",
      " 1 1 0 1 0 1 1 1 1 0 0 1 0 1 0 0 1 1 1 1 0 0 1 0 1 1 1 0 0 0 0 0 0 0 0 1 1\n",
      " 1 0 0 0 0 0 0 0 0 1 0 0 0 1 1 0 0 0 1 0 0 1 1 0 1 1 1 1 1 0 1 0 0 1 1 0 1\n",
      " 1 1 1 0 0 1 0 0 1 1 1 1 1 1 1 1 0 1 1 1 1 0 0 0 0 0 1 1 1 1 1 1 0 1 1 0 0\n",
      " 1 0 0 0 0 1 1 0 0 0 1 0 1 1 0 0 0 1 1 1 1 0 1 1 1 0 1 0 0 1 1 0 0 1 1 1 0\n",
      " 0 0 1 0 1 1 1 1 0 0 0 0 0 1 0 0 1 0 0 0 1 0 0 0 1 0 1 1 1 1 1 0 1 0 0 0 0\n",
      " 0]\n",
      "\n"
     ]
    },
    {
     "name": "stderr",
     "output_type": "stream",
     "text": [
      "/Users/kwontaeyoon/opt/anaconda3/envs/DL/lib/python3.7/site-packages/ipykernel_launcher.py:3: DeprecationWarning: `np.float` is a deprecated alias for the builtin `float`. To silence this warning, use `float` by itself. Doing this will not modify any behavior and is safe. If you specifically wanted the numpy scalar type, use `np.float64` here.\n",
      "Deprecated in NumPy 1.20; for more details and guidance: https://numpy.org/devdocs/release/1.20.0-notes.html#deprecations\n",
      "  This is separate from the ipykernel package so we can avoid doing imports until\n"
     ]
    }
   ],
   "source": [
    "# data preparation\n",
    "# xor data\n",
    "x_seeds = np.array([(0,0),(1,0),(0,1),(1,1)],dtype=np.float)\n",
    "y_seeds = np.array([0,1,1,0])\n",
    "print(f\"x_seeds dim : {x_seeds.shape}, y_seeds dim : {y_seeds.shape}\")\n",
    "\n",
    "N = 1000\n",
    "idxs = np.random.randint(0,4,N)\n",
    "print(f\"idxs shape : {idxs.shape}\")\n",
    "\n",
    "X = x_seeds[idxs]\n",
    "Y = y_seeds[idxs]\n",
    "X += np.random.normal(scale=0.25,size=X.shape)\n",
    "\n",
    "print(f'''\n",
    "X shape : {X.shape} , Y shape : {Y.shape}\n",
    "X is\n",
    "{X}\n",
    "Y is\n",
    "{Y}\n",
    "''')"
   ]
  },
  {
   "cell_type": "code",
   "execution_count": 50,
   "id": "b2a52131",
   "metadata": {},
   "outputs": [],
   "source": [
    "# plot function\n",
    "def plot_SNN(X,Y) :\n",
    "    idx_1 = np.where(Y>0.5)\n",
    "    idx_0 = np.where(Y<=0.5)\n",
    "    \n",
    "    X_0 = X[idx_0]\n",
    "    X_1 = X[idx_1]\n",
    "    Y_0 = Y[idx_0]\n",
    "    Y_1 = Y[idx_1]\n",
    "    \n",
    "    plt.plot(X_0[:,0],X_0[:,1],\"r^\")\n",
    "    plt.plot(X_1[:,0],X_1[:,1],\"bx\")\n",
    "    plt.show()\n",
    "    "
   ]
  },
  {
   "cell_type": "code",
   "execution_count": 51,
   "id": "90cce8bb",
   "metadata": {},
   "outputs": [
    {
     "data": {
      "image/png": "[encoded data removed]",
      "text/plain": [
       "<Figure size 432x288 with 1 Axes>"
      ]
     },
     "metadata": {
      "needs_background": "light"
     },
     "output_type": "display_data"
    }
   ],
   "source": [
    "plot_SNN(X,Y)"
   ]
  },
  {
   "cell_type": "code",
   "execution_count": 31,
   "id": "52d9b2c7",
   "metadata": {},
   "outputs": [],
   "source": [
    "class numpy_shallow_NN():\n",
    "    def __init__(self,num_input_feature,num_hiddens):\n",
    "        self.num_input = num_input_feature\n",
    "        self.num_hiddens = num_hiddens\n",
    "        \n",
    "        self.W1 = np.random.normal(size=(self.num_hiddens,self.num_input))\n",
    "        self.b1 = np.random.normal(size=self.num_hiddens)\n",
    "        \n",
    "        self.w2 = np.random.normal(size=self.num_hiddens)\n",
    "        self.b2 = np.random.normal(size=1)\n",
    "        \n",
    "    def sigmoid(self,z):\n",
    "        return 1/(1+np.exp(-z))\n",
    "    \n",
    "    def forward(self,x):\n",
    "        z1 = np.matmul(self.W1,x) + self.b1\n",
    "        a1 = np.tanh(z1)\n",
    "        z2 = np.matmul(self.w2,a1) + self.b2\n",
    "        a2 = self.sigmoid(z2)\n",
    "        return a2,(z1,a1,z2,a2)"
   ]
  },
  {
   "cell_type": "code",
   "execution_count": 41,
   "id": "527babb6",
   "metadata": {},
   "outputs": [],
   "source": [
    "model = numpy_shallow_NN(2,4)"
   ]
  },
  {
   "cell_type": "code",
   "execution_count": 42,
   "id": "490b3b6c",
   "metadata": {
    "scrolled": true
   },
   "outputs": [
    {
     "name": "stdout",
     "output_type": "stream",
     "text": [
      "epoch : 0, cost : [0.82670653]\n",
      "epoch : 10, cost : [0.67691883]\n",
      "epoch : 20, cost : [0.64938633]\n",
      "epoch : 30, cost : [0.62187983]\n",
      "epoch : 40, cost : [0.59661738]\n",
      "epoch : 50, cost : [0.57183147]\n",
      "epoch : 60, cost : [0.54425629]\n",
      "epoch : 70, cost : [0.49102835]\n",
      "epoch : 80, cost : [0.42719062]\n",
      "epoch : 90, cost : [0.3741894]\n"
     ]
    }
   ],
   "source": [
    "# Train\n",
    "lr = 1\n",
    "for epoch in range(0,100):\n",
    "    dW1 = np.zeros_like(model.W1)\n",
    "    db1 = np.zeros_like(model.b1)\n",
    "    dw2 = np.zeros_like(model.w2)\n",
    "    db2 = np.zeros_like(model.b2)\n",
    "    N = len(X)\n",
    "    cost = 0.0\n",
    "    for x,y in zip(X,Y):\n",
    "        yhat,(z1,a1,z2,a2) = model.forward(x)\n",
    "        loss = -y*np.log(yhat) - (1-y)*np.log(1-yhat)\n",
    "        cost += loss\n",
    "        \n",
    "        # Back Propagation\n",
    "        diff = a2-y\n",
    "        db2 += diff\n",
    "        dw2 += a1 * diff\n",
    "        db1 += diff * (1-a1**2) * model.w2\n",
    "        dW1 += np.outer(diff * model.w2 * (1-a1**2),x)\n",
    "        \n",
    "    cost /= N\n",
    "    if epoch % 10 == 0 :\n",
    "        print(f\"epoch : {epoch}, cost : {cost}\")\n",
    "    model.W1 -= lr * (dW1/N)\n",
    "    model.b1 -= lr * (db1/N)\n",
    "    model.w2 -= lr * (dw2/N)\n",
    "    model.b2 -= lr * (db2/N)"
   ]
  },
  {
   "cell_type": "code",
   "execution_count": 53,
   "id": "d013cdff",
   "metadata": {},
   "outputs": [
    {
     "name": "stdout",
     "output_type": "stream",
     "text": [
      "\n",
      "(0,0) : 0.16318679018183546\n",
      "(0,1) : 0.7432079771083896\n",
      "(1,0) : 0.8890013270913298\n",
      "(1,1) : 0.19244512132788488\n",
      "\n"
     ]
    },
    {
     "data": {
      "image/png": "[encoded data removed]",
      "text/plain": [
       "<Figure size 432x288 with 1 Axes>"
      ]
     },
     "metadata": {
      "needs_background": "light"
     },
     "output_type": "display_data"
    }
   ],
   "source": [
    "# Test\n",
    "print(f'''\n",
    "(0,0) : {model.forward((0,0))[0].item()}\n",
    "(0,1) : {model.forward((0,1))[0].item()}\n",
    "(1,0) : {model.forward((1,0))[0].item()}\n",
    "(1,1) : {model.forward((1,1))[0].item()}\n",
    "''')\n",
    "#plot\n",
    "Yhat = np.array([])\n",
    "for x,y in zip(X,Y):\n",
    "    yhat, _ = model.forward(x)\n",
    "    Yhat = np.append(Yhat,yhat)\n",
    "\n",
    "plot_SNN(X,Yhat)"
   ]
  },
  {
   "cell_type": "code",
   "execution_count": null,
   "id": "fe14480a",
   "metadata": {},
   "outputs": [],
   "source": []
  }
 ],
 "metadata": {
  "kernelspec": {
   "display_name": "DL",
   "language": "python",
   "name": "dl"
  },
  "language_info": {
   "codemirror_mode": {
    "name": "ipython",
    "version": 3
   },
   "file_extension": ".py",
   "mimetype": "text/x-python",
   "name": "python",
   "nbconvert_exporter": "python",
   "pygments_lexer": "ipython3",
   "version": "3.7.11"
  }
 },
 "nbformat": 4,
 "nbformat_minor": 5
}
